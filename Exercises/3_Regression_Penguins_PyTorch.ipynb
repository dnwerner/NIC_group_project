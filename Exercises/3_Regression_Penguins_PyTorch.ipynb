{
  "cells": [
    {
      "cell_type": "markdown",
      "metadata": {
        "id": "view-in-github",
        "colab_type": "text"
      },
      "source": [
        "<a href=\"https://colab.research.google.com/github/dnwerner/NIC_group_project/blob/main/Exercises/3_Regression_Penguins_PyTorch.ipynb\" target=\"_parent\"><img src=\"https://colab.research.google.com/assets/colab-badge.svg\" alt=\"Open In Colab\"/></a>"
      ]
    },
    {
      "cell_type": "markdown",
      "metadata": {
        "id": "XpEdTntxijS0"
      },
      "source": [
        "# Regression in PyTorch"
      ]
    },
    {
      "cell_type": "markdown",
      "metadata": {
        "id": "QeUhSP7vijS1"
      },
      "source": [
        "Repeating the procedure in PyTorch will be instructive for building neural networks in PyTorch later"
      ]
    },
    {
      "cell_type": "code",
      "execution_count": 1,
      "metadata": {
        "id": "Ar80QBLDijS2"
      },
      "outputs": [],
      "source": [
        "import pandas as pd\n",
        "import matplotlib.pyplot as plt\n",
        "import torch\n",
        "from torch import nn, optim"
      ]
    },
    {
      "cell_type": "markdown",
      "metadata": {
        "id": "Yq2q1IZDjI8g"
      },
      "source": [
        "## Loading data"
      ]
    },
    {
      "cell_type": "code",
      "source": [
        "!wget -O penguins_downloaded.csv \"https://cernbox.cern.ch/s/wh34GhKCOv0Umh7/download\"\n",
        "print(\"Download complete\")"
      ],
      "metadata": {
        "id": "JsjhqFDQjd2D",
        "outputId": "8d5de6c6-b908-41fb-dea5-d54abf4b392d",
        "colab": {
          "base_uri": "https://localhost:8080/"
        }
      },
      "execution_count": 2,
      "outputs": [
        {
          "output_type": "stream",
          "name": "stdout",
          "text": [
            "--2025-05-06 15:08:48--  https://cernbox.cern.ch/s/wh34GhKCOv0Umh7/download\n",
            "Resolving cernbox.cern.ch (cernbox.cern.ch)... 137.138.120.151, 128.142.53.28, 128.142.53.35, ...\n",
            "Connecting to cernbox.cern.ch (cernbox.cern.ch)|137.138.120.151|:443... connected.\n",
            "HTTP request sent, awaiting response... 200 OK\n",
            "Length: unspecified [text/plain]\n",
            "Saving to: ‘penguins_downloaded.csv’\n",
            "\n",
            "penguins_downloaded     [ <=>                ]  14.88K  --.-KB/s    in 0.1s    \n",
            "\n",
            "2025-05-06 15:08:49 (137 KB/s) - ‘penguins_downloaded.csv’ saved [15241]\n",
            "\n",
            "Download complete\n"
          ]
        }
      ]
    },
    {
      "cell_type": "markdown",
      "metadata": {
        "id": "mO4mmzhjijS2"
      },
      "source": [
        "Load the penguin dataset (a CSV file) using the `pandas` module"
      ]
    },
    {
      "cell_type": "code",
      "execution_count": 3,
      "metadata": {
        "id": "6kOBvrUyijS2"
      },
      "outputs": [],
      "source": [
        "input_penguins_df = pd.read_csv(\"penguins_downloaded.csv\")\n",
        "penguins_df = input_penguins_df.dropna(inplace=False)"
      ]
    },
    {
      "cell_type": "markdown",
      "metadata": {
        "id": "ICSwTjoXijS3"
      },
      "source": [
        "For PyTorch, we need to load the data into tensors, luckily we're familiar with these already. They need to be columns hence the reshaping"
      ]
    },
    {
      "cell_type": "code",
      "execution_count": 4,
      "metadata": {
        "id": "hPJsQ1hxijS3"
      },
      "outputs": [],
      "source": [
        "input_data = torch.tensor(penguins_df[\"flipper_length_mm\"].values, dtype=torch.float32).reshape(-1,1)\n",
        "target     = torch.tensor(penguins_df[\"body_mass_g\"].values,       dtype=torch.float32).reshape(-1,1)"
      ]
    },
    {
      "cell_type": "markdown",
      "metadata": {
        "id": "nh2uns_4ijS3"
      },
      "source": [
        "Our model here is a \"linear\" layer which for the simple linear regression case, will map a single value $X_i$ to a single value $y_i$"
      ]
    },
    {
      "cell_type": "code",
      "execution_count": 5,
      "metadata": {
        "id": "KYCpbrqXijS4"
      },
      "outputs": [],
      "source": [
        "model = nn.Linear(1, 1)"
      ]
    },
    {
      "cell_type": "markdown",
      "metadata": {
        "id": "NHsbHkDEijS4"
      },
      "source": [
        "We can examine the model through the following:"
      ]
    },
    {
      "cell_type": "code",
      "execution_count": 6,
      "metadata": {
        "id": "nE6oQ14cijS4",
        "outputId": "b6cba06a-b34f-4f49-e862-d0641234c653",
        "colab": {
          "base_uri": "https://localhost:8080/"
        }
      },
      "outputs": [
        {
          "output_type": "stream",
          "name": "stdout",
          "text": [
            "Linear(in_features=1, out_features=1, bias=True)\n",
            "[Parameter containing:\n",
            "tensor([[0.4631]], requires_grad=True), Parameter containing:\n",
            "tensor([0.0242], requires_grad=True)]\n"
          ]
        }
      ],
      "source": [
        "print(model)\n",
        "print(list(model.parameters()))"
      ]
    },
    {
      "cell_type": "markdown",
      "metadata": {
        "id": "yudk9o94ijS4"
      },
      "source": [
        "It shows we've defined a Linear model with one input, one output, and biases turned on (which is just the y-intercept for simple linear regression). The model parameters are the things which will alter as we train - just now they're set to random values"
      ]
    },
    {
      "cell_type": "markdown",
      "metadata": {
        "id": "zIRJsm7QjI8j"
      },
      "source": [
        "## Training"
      ]
    },
    {
      "cell_type": "markdown",
      "metadata": {
        "id": "AssanyFsijS5"
      },
      "source": [
        "In the sklearn case, an analytic solution for ordinary least squares was implicitly used to solve the regression problem.\n",
        "\n",
        "In PyTorch, the same problem is solved iteratively by minimising some loss function and updating our two model paramters. We will use MSELoss which we saw in the lecture slides: it is a very common choice for regression problems."
      ]
    },
    {
      "cell_type": "code",
      "execution_count": 7,
      "metadata": {
        "id": "7JiwM8gfijS5"
      },
      "outputs": [],
      "source": [
        "loss_function = nn.MSELoss()\n",
        "optimizer = optim.Rprop(model.parameters())"
      ]
    },
    {
      "cell_type": "markdown",
      "metadata": {
        "id": "8K5XnWxwijS5"
      },
      "source": [
        "Now the iteration itself, a `for` loop which:\n",
        "* Makes a prediction based on the current model\n",
        "* Computes the loss ~ the difference between the prediction and the true value\n",
        "* Updates the model\n",
        "\n",
        "This cell is slightly more verbose, so make sure you understand what each line is doing"
      ]
    },
    {
      "cell_type": "code",
      "execution_count": 8,
      "metadata": {
        "id": "dGivz-2EijS5",
        "collapsed": true,
        "outputId": "3d9b45b4-0760-4410-ab65-92babaca93dd",
        "colab": {
          "base_uri": "https://localhost:8080/"
        }
      },
      "outputs": [
        {
          "output_type": "stream",
          "name": "stdout",
          "text": [
            "Epoch [10/1000], Loss: 17214118.0000\n",
            "Epoch [20/1000], Loss: 15058626.0000\n",
            "Epoch [30/1000], Loss: 4986650.5000\n",
            "Epoch [40/1000], Loss: 343565.8750\n",
            "Epoch [50/1000], Loss: 321293.5312\n",
            "Epoch [60/1000], Loss: 320452.2188\n",
            "Epoch [70/1000], Loss: 316972.1562\n",
            "Epoch [80/1000], Loss: 305737.8125\n",
            "Epoch [90/1000], Loss: 299346.1562\n",
            "Epoch [100/1000], Loss: 282696.4688\n",
            "Epoch [110/1000], Loss: 274495.6250\n",
            "Epoch [120/1000], Loss: 266724.0312\n",
            "Epoch [130/1000], Loss: 259400.3594\n",
            "Epoch [140/1000], Loss: 252500.8594\n",
            "Epoch [150/1000], Loss: 245027.7500\n",
            "Epoch [160/1000], Loss: 237867.9688\n",
            "Epoch [170/1000], Loss: 231338.7656\n",
            "Epoch [180/1000], Loss: 226868.5000\n",
            "Epoch [190/1000], Loss: 222096.7969\n",
            "Epoch [200/1000], Loss: 217442.0156\n",
            "Epoch [210/1000], Loss: 213490.5000\n",
            "Epoch [220/1000], Loss: 209345.2500\n",
            "Epoch [230/1000], Loss: 204894.7031\n",
            "Epoch [240/1000], Loss: 200591.3750\n",
            "Epoch [250/1000], Loss: 197777.2031\n",
            "Epoch [260/1000], Loss: 195080.3906\n",
            "Epoch [270/1000], Loss: 192214.0000\n",
            "Epoch [280/1000], Loss: 189709.7031\n",
            "Epoch [290/1000], Loss: 187327.3750\n",
            "Epoch [300/1000], Loss: 184844.6094\n",
            "Epoch [310/1000], Loss: 182206.5156\n",
            "Epoch [320/1000], Loss: 180137.2188\n",
            "Epoch [330/1000], Loss: 178581.0469\n",
            "Epoch [340/1000], Loss: 176958.8594\n",
            "Epoch [350/1000], Loss: 175570.6406\n",
            "Epoch [360/1000], Loss: 174067.0312\n",
            "Epoch [370/1000], Loss: 172629.2188\n",
            "Epoch [380/1000], Loss: 171140.3281\n",
            "Epoch [390/1000], Loss: 170032.7500\n",
            "Epoch [400/1000], Loss: 169070.2969\n",
            "Epoch [410/1000], Loss: 168126.2656\n",
            "Epoch [420/1000], Loss: 167233.5469\n",
            "Epoch [430/1000], Loss: 166387.1406\n",
            "Epoch [440/1000], Loss: 165479.4062\n",
            "Epoch [450/1000], Loss: 164602.9531\n",
            "Epoch [460/1000], Loss: 163802.4688\n",
            "Epoch [470/1000], Loss: 163252.7031\n",
            "Epoch [480/1000], Loss: 162665.3750\n",
            "Epoch [490/1000], Loss: 162092.5469\n",
            "Epoch [500/1000], Loss: 161604.1250\n",
            "Epoch [510/1000], Loss: 161087.4062\n",
            "Epoch [520/1000], Loss: 160539.5469\n",
            "Epoch [530/1000], Loss: 160004.5938\n",
            "Epoch [540/1000], Loss: 159654.1406\n",
            "Epoch [550/1000], Loss: 159316.9062\n",
            "Epoch [560/1000], Loss: 158958.0625\n",
            "Epoch [570/1000], Loss: 158644.5156\n",
            "Epoch [580/1000], Loss: 158344.6719\n",
            "Epoch [590/1000], Loss: 158028.6250\n",
            "Epoch [600/1000], Loss: 157697.9062\n",
            "Epoch [610/1000], Loss: 157435.1406\n",
            "Epoch [620/1000], Loss: 157237.7188\n",
            "Epoch [630/1000], Loss: 157030.4375\n",
            "Epoch [640/1000], Loss: 156830.7500\n",
            "Epoch [650/1000], Loss: 156640.4531\n",
            "Epoch [660/1000], Loss: 156455.9375\n",
            "Epoch [670/1000], Loss: 156262.0156\n",
            "Epoch [680/1000], Loss: 156089.0000\n",
            "Epoch [690/1000], Loss: 155917.9844\n",
            "Epoch [700/1000], Loss: 155747.1250\n",
            "Epoch [710/1000], Loss: 155566.1094\n",
            "Epoch [720/1000], Loss: 155436.0469\n",
            "Epoch [730/1000], Loss: 155324.4062\n",
            "Epoch [740/1000], Loss: 155215.8125\n",
            "Epoch [750/1000], Loss: 155116.4219\n",
            "Epoch [760/1000], Loss: 155047.9531\n",
            "Epoch [770/1000], Loss: 154974.6719\n",
            "Epoch [780/1000], Loss: 154903.1406\n",
            "Epoch [790/1000], Loss: 154841.9688\n",
            "Epoch [800/1000], Loss: 154776.6562\n",
            "Epoch [810/1000], Loss: 154708.1250\n",
            "Epoch [820/1000], Loss: 154640.6875\n",
            "Epoch [830/1000], Loss: 154583.0312\n",
            "Epoch [840/1000], Loss: 154521.3125\n",
            "Epoch [850/1000], Loss: 154460.1719\n",
            "Epoch [860/1000], Loss: 154398.6250\n",
            "Epoch [870/1000], Loss: 154356.3750\n",
            "Epoch [880/1000], Loss: 154318.1562\n",
            "Epoch [890/1000], Loss: 154278.3125\n",
            "Epoch [900/1000], Loss: 154242.6250\n",
            "Epoch [910/1000], Loss: 154209.0312\n",
            "Epoch [920/1000], Loss: 154173.1406\n",
            "Epoch [930/1000], Loss: 154137.9688\n",
            "Epoch [940/1000], Loss: 154107.8750\n",
            "Epoch [950/1000], Loss: 154086.8281\n",
            "Epoch [960/1000], Loss: 154064.8125\n",
            "Epoch [970/1000], Loss: 154042.9375\n",
            "Epoch [980/1000], Loss: 154029.0938\n",
            "Epoch [990/1000], Loss: 154015.3438\n",
            "Epoch [1000/1000], Loss: 154002.2188\n"
          ]
        }
      ],
      "source": [
        "# keep track of the loss every epoch. This is only for visualisation\n",
        "losses = []\n",
        "\n",
        "N_epochs = 1000\n",
        "\n",
        "for epoch in range(N_epochs):\n",
        "    # tell the optimizer to begin an optimization step\n",
        "    optimizer.zero_grad()\n",
        "\n",
        "    # use the model as a prediction function: features → prediction\n",
        "    predictions = model(input_data)\n",
        "\n",
        "    # compute the loss (χ²) between these predictions and the intended targets\n",
        "    loss = loss_function(predictions, target)\n",
        "\n",
        "    # tell the loss function and optimizer to end an optimization step\n",
        "    loss.backward()\n",
        "    optimizer.step()\n",
        "\n",
        "    losses.append(loss.item())\n",
        "\n",
        "    # Print the loss every 10 epochs\n",
        "    if (epoch + 1) % 10 == 0:\n",
        "        print(f'Epoch [{epoch + 1}/{N_epochs}], Loss: {loss.item():.4f}')"
      ]
    },
    {
      "cell_type": "markdown",
      "metadata": {
        "id": "OUSFW6LEijS5"
      },
      "source": [
        "# Task 1\n",
        "* Try with a small number of epochs e.g. 30 and see what the loss curve looks like: has the model converged?\n",
        "* Reset the model parameters and see how many it takes for the model to converge. Beware of local minima!"
      ]
    },
    {
      "cell_type": "markdown",
      "metadata": {
        "id": "cdYRi036ijS5"
      },
      "source": [
        "We've printed the loss every 10 epochs to keep track that it is decreasing as we want.\n",
        "This is good practice for training ML models, rather than just waiting until all epochs have run and then examining the result.\n",
        "There are also many highly advanced tools for monitoring training: wandb.ai and TensorBoard are a couple of examples"
      ]
    },
    {
      "cell_type": "code",
      "execution_count": 9,
      "metadata": {
        "id": "gmxDD2BRijS5",
        "outputId": "405d8766-a224-4bd1-84ec-dfcba895a3e1",
        "colab": {
          "base_uri": "https://localhost:8080/",
          "height": 472
        }
      },
      "outputs": [
        {
          "output_type": "display_data",
          "data": {
            "text/plain": [
              "<Figure size 640x480 with 1 Axes>"
            ],
            "image/png": "[encoded data removed]"
          },
          "metadata": {}
        }
      ],
      "source": [
        "def plot_loss_curve(losses):\n",
        "    plt.plot(losses)\n",
        "    plt.xlabel('Epochs')\n",
        "    plt.ylabel('Loss')\n",
        "    plt.yscale('log')\n",
        "    plt.title('Loss Curve')\n",
        "    plt.show()\n",
        "\n",
        "plot_loss_curve(losses)"
      ]
    },
    {
      "cell_type": "code",
      "execution_count": null,
      "metadata": {
        "id": "QlztysllijS5"
      },
      "outputs": [],
      "source": [
        "# USE THIS TO RESET THE MODEL PARAMETERS!!!\n",
        "model.reset_parameters()\n",
        "optimizer = optim.Rprop(model.parameters())"
      ]
    },
    {
      "cell_type": "markdown",
      "metadata": {
        "id": "6gL7XxL3ijS6"
      },
      "source": [
        "## Evaluating the model"
      ]
    },
    {
      "cell_type": "markdown",
      "metadata": {
        "id": "Fwd-z0RUijS6"
      },
      "source": [
        "Evaluating the model on the input data is as simple as a passing it as an argument. This returns a tensor with the derivates attached, so we have to detach these and map back to numpy"
      ]
    },
    {
      "cell_type": "code",
      "execution_count": 14,
      "metadata": {
        "id": "-GJ6uCsaijS6",
        "collapsed": true,
        "outputId": "10065b2b-1816-4327-c4b6-212aad6724ce",
        "colab": {
          "base_uri": "https://localhost:8080/"
        }
      },
      "outputs": [
        {
          "output_type": "stream",
          "name": "stdout",
          "text": [
            "tensor([[3227.1089],\n",
            "        [3472.6909],\n",
            "        [3914.7378],\n",
            "        [3816.5054],\n",
            "        [3669.1558],\n",
            "        [3227.1089],\n",
            "        [3914.7378],\n",
            "        [3276.2251],\n",
            "        [3718.2729],\n",
            "        [4062.0874],\n",
            "        [3423.5737],\n",
            "        [3914.7378],\n",
            "        [4012.9712],\n",
            "        [3374.4575],\n",
            "        [3865.6216],\n",
            "        [2883.2935],\n",
            "        [3177.9917],\n",
            "        [3620.0396],\n",
            "        [3423.5737],\n",
            "        [3177.9917],\n",
            "        [3521.8071],\n",
            "        [3325.3413],\n",
            "        [3521.8071],\n",
            "        [2785.0610],\n",
            "        [3177.9917],\n",
            "        [3079.7593],\n",
            "        [3079.7593],\n",
            "        [3570.9233],\n",
            "        [3374.4575],\n",
            "        [3914.7378],\n",
            "        [3963.8550],\n",
            "        [3669.1558],\n",
            "        [3177.9917],\n",
            "        [3227.1089],\n",
            "        [3374.4575],\n",
            "        [3276.2251],\n",
            "        [3914.7378],\n",
            "        [3472.6909],\n",
            "        [3963.8550],\n",
            "        [3423.5737],\n",
            "        [3669.1558],\n",
            "        [3276.2251],\n",
            "        [3669.1558],\n",
            "        [3718.2729],\n",
            "        [3472.6909],\n",
            "        [3570.9233],\n",
            "        [3669.1558],\n",
            "        [4160.3198],\n",
            "        [3521.8071],\n",
            "        [3718.2729],\n",
            "        [3472.6909],\n",
            "        [3816.5054],\n",
            "        [3227.1089],\n",
            "        [3865.6216],\n",
            "        [3423.5737],\n",
            "        [3914.7378],\n",
            "        [3423.5737],\n",
            "        [3767.3892],\n",
            "        [3374.4575],\n",
            "        [3767.3892],\n",
            "        [3914.7378],\n",
            "        [3570.9233],\n",
            "        [3669.1558],\n",
            "        [4062.0874],\n",
            "        [3669.1558],\n",
            "        [3669.1558],\n",
            "        [3963.8550],\n",
            "        [4012.9712],\n",
            "        [3669.1558],\n",
            "        [3914.7378],\n",
            "        [3718.2729],\n",
            "        [3374.4575],\n",
            "        [3521.8071],\n",
            "        [3914.7378],\n",
            "        [3620.0396],\n",
            "        [3963.8550],\n",
            "        [3521.8071],\n",
            "        [3816.5054],\n",
            "        [3718.2729],\n",
            "        [3865.6216],\n",
            "        [3669.1558],\n",
            "        [3620.0396],\n",
            "        [3620.0396],\n",
            "        [3669.1558],\n",
            "        [4258.5532],\n",
            "        [4405.9019],\n",
            "        [3423.5737],\n",
            "        [3472.6909],\n",
            "        [3521.8071],\n",
            "        [4553.2515],\n",
            "        [3669.1558],\n",
            "        [3963.8550],\n",
            "        [3079.7593],\n",
            "        [3767.3892],\n",
            "        [3767.3892],\n",
            "        [4307.6694],\n",
            "        [3325.3413],\n",
            "        [3669.1558],\n",
            "        [3816.5054],\n",
            "        [3374.4575],\n",
            "        [4111.2036],\n",
            "        [3669.1558],\n",
            "        [3227.1089],\n",
            "        [4012.9712],\n",
            "        [4062.0874],\n",
            "        [3718.2729],\n",
            "        [3816.5054],\n",
            "        [4012.9712],\n",
            "        [3718.2729],\n",
            "        [3963.8550],\n",
            "        [3570.9233],\n",
            "        [4111.2036],\n",
            "        [3620.0396],\n",
            "        [3620.0396],\n",
            "        [3521.8071],\n",
            "        [4062.0874],\n",
            "        [2981.5269],\n",
            "        [4258.5532],\n",
            "        [3472.6909],\n",
            "        [4111.2036],\n",
            "        [3718.2729],\n",
            "        [3914.7378],\n",
            "        [3718.2729],\n",
            "        [4651.4839],\n",
            "        [3669.1558],\n",
            "        [4012.9712],\n",
            "        [3816.5054],\n",
            "        [4111.2036],\n",
            "        [3521.8071],\n",
            "        [3669.1558],\n",
            "        [3718.2729],\n",
            "        [4160.3198],\n",
            "        [3423.5737],\n",
            "        [3816.5054],\n",
            "        [3816.5054],\n",
            "        [3521.8071],\n",
            "        [3570.9233],\n",
            "        [3669.1558],\n",
            "        [3767.3892],\n",
            "        [3423.5737],\n",
            "        [3669.1558],\n",
            "        [3374.4575],\n",
            "        [3914.7378],\n",
            "        [3816.5054],\n",
            "        [3521.8071],\n",
            "        [4209.4360],\n",
            "        [4700.6001],\n",
            "        [5633.8120],\n",
            "        [4651.4839],\n",
            "        [5044.4155],\n",
            "        [4897.0659],\n",
            "        [4651.4839],\n",
            "        [4700.6001],\n",
            "        [5093.5317],\n",
            "        [4602.3677],\n",
            "        [4897.0659],\n",
            "        [4847.9497],\n",
            "        [4946.1821],\n",
            "        [4847.9497],\n",
            "        [4798.8335],\n",
            "        [4651.4839],\n",
            "        [4995.2993],\n",
            "        [4651.4839],\n",
            "        [5191.7642],\n",
            "        [4602.3677],\n",
            "        [5240.8804],\n",
            "        [5044.4155],\n",
            "        [4897.0659],\n",
            "        [4798.8335],\n",
            "        [4897.0659],\n",
            "        [4897.0659],\n",
            "        [4897.0659],\n",
            "        [4897.0659],\n",
            "        [4651.4839],\n",
            "        [5142.6479],\n",
            "        [5240.8804],\n",
            "        [4602.3677],\n",
            "        [4504.1353],\n",
            "        [5633.8120],\n",
            "        [5142.6479],\n",
            "        [5142.6479],\n",
            "        [4798.8335],\n",
            "        [5093.5317],\n",
            "        [4553.2515],\n",
            "        [4553.2515],\n",
            "        [4553.2515],\n",
            "        [5388.2300],\n",
            "        [4651.4839],\n",
            "        [4946.1821],\n",
            "        [5240.8804],\n",
            "        [4995.2993],\n",
            "        [4651.4839],\n",
            "        [5388.2300],\n",
            "        [4798.8335],\n",
            "        [4897.0659],\n",
            "        [4651.4839],\n",
            "        [5142.6479],\n",
            "        [4651.4839],\n",
            "        [5388.2300],\n",
            "        [4995.2993],\n",
            "        [5142.6479],\n",
            "        [4553.2515],\n",
            "        [5142.6479],\n",
            "        [4553.2515],\n",
            "        [5339.1138],\n",
            "        [4553.2515],\n",
            "        [5191.7642],\n",
            "        [4847.9497],\n",
            "        [5682.9282],\n",
            "        [5093.5317],\n",
            "        [5633.8120],\n",
            "        [5584.6958],\n",
            "        [5142.6479],\n",
            "        [5289.9976],\n",
            "        [4946.1821],\n",
            "        [5191.7642],\n",
            "        [5191.7642],\n",
            "        [4995.2993],\n",
            "        [4946.1821],\n",
            "        [5633.8120],\n",
            "        [4602.3677],\n",
            "        [5142.6479],\n",
            "        [4897.0659],\n",
            "        [5289.9976],\n",
            "        [4749.7173],\n",
            "        [5191.7642],\n",
            "        [4749.7173],\n",
            "        [5339.1138],\n",
            "        [4749.7173],\n",
            "        [5535.5796],\n",
            "        [5044.4155],\n",
            "        [5044.4155],\n",
            "        [4749.7173],\n",
            "        [5633.8120],\n",
            "        [5044.4155],\n",
            "        [5535.5796],\n",
            "        [4749.7173],\n",
            "        [5339.1138],\n",
            "        [4847.9497],\n",
            "        [5437.3462],\n",
            "        [4946.1821],\n",
            "        [5240.8804],\n",
            "        [4307.6694],\n",
            "        [5388.2300],\n",
            "        [5093.5317],\n",
            "        [5535.5796],\n",
            "        [4897.0659],\n",
            "        [5535.5796],\n",
            "        [4897.0659],\n",
            "        [4651.4839],\n",
            "        [5093.5317],\n",
            "        [4553.2515],\n",
            "        [4602.3677],\n",
            "        [4946.1821],\n",
            "        [5584.6958],\n",
            "        [4798.8335],\n",
            "        [5633.8120],\n",
            "        [4995.2993],\n",
            "        [5633.8120],\n",
            "        [5240.8804],\n",
            "        [4847.9497],\n",
            "        [4897.0659],\n",
            "        [5240.8804],\n",
            "        [4749.7173],\n",
            "        [4798.8335],\n",
            "        [3767.3892],\n",
            "        [3963.8550],\n",
            "        [3816.5054],\n",
            "        [3570.9233],\n",
            "        [4012.9712],\n",
            "        [4062.0874],\n",
            "        [3079.7593],\n",
            "        [4012.9712],\n",
            "        [3914.7378],\n",
            "        [4062.0874],\n",
            "        [3816.5054],\n",
            "        [3865.6216],\n",
            "        [3423.5737],\n",
            "        [4209.4360],\n",
            "        [3669.1558],\n",
            "        [4209.4360],\n",
            "        [4012.9712],\n",
            "        [3227.1089],\n",
            "        [3669.1558],\n",
            "        [3914.7378],\n",
            "        [3227.1089],\n",
            "        [3718.2729],\n",
            "        [3521.8071],\n",
            "        [3816.5054],\n",
            "        [3914.7378],\n",
            "        [4012.9712],\n",
            "        [4160.3198],\n",
            "        [4160.3198],\n",
            "        [3718.2729],\n",
            "        [4405.9019],\n",
            "        [3521.8071],\n",
            "        [4209.4360],\n",
            "        [3521.8071],\n",
            "        [4307.6694],\n",
            "        [3914.7378],\n",
            "        [4111.2036],\n",
            "        [3914.7378],\n",
            "        [4651.4839],\n",
            "        [3767.3892],\n",
            "        [4405.9019],\n",
            "        [4651.4839],\n",
            "        [3521.8071],\n",
            "        [3963.8550],\n",
            "        [3963.8550],\n",
            "        [3963.8550],\n",
            "        [4209.4360],\n",
            "        [3669.1558],\n",
            "        [4749.7173],\n",
            "        [3521.8071],\n",
            "        [4062.0874],\n",
            "        [4111.2036],\n",
            "        [4209.4360],\n",
            "        [3816.5054],\n",
            "        [4307.6694],\n",
            "        [3521.8071],\n",
            "        [4012.9712],\n",
            "        [3718.2729],\n",
            "        [4307.6694],\n",
            "        [4258.5532],\n",
            "        [3865.6216],\n",
            "        [4455.0181],\n",
            "        [3620.0396],\n",
            "        [3914.7378],\n",
            "        [4504.1353],\n",
            "        [4258.5532],\n",
            "        [3816.5054],\n",
            "        [4651.4839],\n",
            "        [4062.0874]])\n"
          ]
        }
      ],
      "source": [
        "y_out = model(input_data)\n",
        "y_pred = y_out.detach()\n",
        "print(y_pred)"
      ]
    },
    {
      "cell_type": "code",
      "execution_count": 18,
      "metadata": {
        "id": "hNz-yDjDijS6",
        "outputId": "742fe055-ac98-4592-c54f-40c58d69b8bd",
        "colab": {
          "base_uri": "https://localhost:8080/",
          "height": 472
        }
      },
      "outputs": [
        {
          "output_type": "display_data",
          "data": {
            "text/plain": [
              "<Figure size 640x480 with 1 Axes>"
            ],
            "image/png": "[encoded data removed]"
          },
          "metadata": {}
        }
      ],
      "source": [
        "# Plot the original data and the linear regression line\n",
        "plt.scatter(input_data, target, color='blue', label='Data Points')\n",
        "plt.plot(input_data, y_pred, color='red', label='Linear Regression Line')\n",
        "plt.xlabel('Input')\n",
        "plt.ylabel('Target')\n",
        "plt.title('Linear Regression Example')\n",
        "plt.legend()\n",
        "plt.show()"
      ]
    },
    {
      "cell_type": "markdown",
      "metadata": {
        "id": "Iye_FyzgijS6"
      },
      "source": [
        "We can use the regression performance metrics from before to evaluate the performance of the model. Build a function which computes the R-squared score from it's definition:\n",
        "$ R^2 = 1 - \\frac{\\sum (y_{\\text{true}} - y_{\\text{pred}})^2}{\\sum (y_{\\text{true}} - \\bar{y_{\\text{true}}})^2}$"
      ]
    },
    {
      "cell_type": "code",
      "source": [
        "def R_squared(y_true, y_pred):\n",
        "    ss_res = torch.sum((y_true - y_pred) ** 2)\n",
        "    ss_tot = torch.sum((y_true - torch.mean(y_true)) ** 2)\n",
        "    return 1 - (ss_res / ss_tot)\n",
        "\n",
        "r_squared_value = R_squared(target, y_pred)\n",
        "print(r_squared_value)"
      ],
      "metadata": {
        "id": "LK4QHIKfLOPc",
        "outputId": "31f450ab-f915-47b1-f159-2ed739a5c301",
        "colab": {
          "base_uri": "https://localhost:8080/"
        }
      },
      "execution_count": 12,
      "outputs": [
        {
          "output_type": "stream",
          "name": "stdout",
          "text": [
            "tensor(0.7618)\n"
          ]
        }
      ]
    },
    {
      "cell_type": "code",
      "execution_count": null,
      "metadata": {
        "id": "EnbFtPNxjI8m"
      },
      "outputs": [],
      "source": [
        "# @title Solution to coefficient of determination {\"display-mode\":\"form\"}\n",
        "\n",
        "# R-squared metric\n",
        "def r_squared(y_true, y_pred):\n",
        "    ss_res = torch.sum((y_true - y_pred) ** 2)\n",
        "    ss_tot = torch.sum((y_true - torch.mean(y_true)) ** 2)\n",
        "    return 1 - (ss_res / ss_tot)\n",
        "\n",
        "r_squared_value = r_squared(target, y_pred)\n",
        "print(r_squared_value)"
      ]
    },
    {
      "cell_type": "markdown",
      "metadata": {
        "id": "q54zJiRgijS6"
      },
      "source": [
        "# Task 2: Multilinear Regression in PyTorch"
      ]
    },
    {
      "cell_type": "markdown",
      "metadata": {
        "id": "UtK-7jv3ijS6"
      },
      "source": [
        "Extend to multilinear regression. You will need to adapt the `Linear` model to take more than single inputs. How does the $R^2$ compare?"
      ]
    },
    {
      "cell_type": "code",
      "source": [
        "a"
      ],
      "metadata": {
        "id": "9Xx2vFGWLXFY"
      },
      "execution_count": null,
      "outputs": []
    },
    {
      "cell_type": "markdown",
      "source": [
        "## Solution"
      ],
      "metadata": {
        "id": "9X_Z62Fnkam9"
      }
    },
    {
      "cell_type": "code",
      "execution_count": 19,
      "metadata": {
        "id": "yWBhx_DWijS6"
      },
      "outputs": [],
      "source": [
        "input_data2D = torch.tensor(penguins_df[[\"flipper_length_mm\" , \"bill_depth_mm\"]].values, dtype=torch.float32)\n",
        "target     = torch.tensor(penguins_df[\"body_mass_g\"].values,       dtype=torch.float32).reshape(-1,1)"
      ]
    },
    {
      "cell_type": "code",
      "execution_count": 20,
      "metadata": {
        "id": "JzPPlhkiijS6"
      },
      "outputs": [],
      "source": [
        "model2 = nn.Linear(2, 1)"
      ]
    },
    {
      "cell_type": "code",
      "execution_count": 21,
      "metadata": {
        "id": "Wc-6oMJEijS6"
      },
      "outputs": [],
      "source": [
        "loss_function = nn.MSELoss()\n",
        "optimizer = optim.Rprop(model2.parameters())"
      ]
    },
    {
      "cell_type": "code",
      "execution_count": 22,
      "metadata": {
        "id": "eLz1V-R0ijS6",
        "outputId": "0b398b3e-2eb1-4699-e156-7757a05ad405",
        "colab": {
          "base_uri": "https://localhost:8080/"
        }
      },
      "outputs": [
        {
          "output_type": "stream",
          "name": "stdout",
          "text": [
            "Epoch [100/3000], Loss: 235247.4688\n",
            "Epoch [200/3000], Loss: 219356.8125\n",
            "Epoch [300/3000], Loss: 204115.6562\n",
            "Epoch [400/3000], Loss: 194874.7500\n",
            "Epoch [500/3000], Loss: 188415.5938\n",
            "Epoch [600/3000], Loss: 181442.0312\n",
            "Epoch [700/3000], Loss: 176496.0781\n",
            "Epoch [800/3000], Loss: 171813.8438\n",
            "Epoch [900/3000], Loss: 167384.5000\n",
            "Epoch [1000/3000], Loss: 164068.2344\n",
            "Epoch [1100/3000], Loss: 162069.7969\n",
            "Epoch [1200/3000], Loss: 160293.4062\n",
            "Epoch [1300/3000], Loss: 158618.7812\n",
            "Epoch [1400/3000], Loss: 157623.3438\n",
            "Epoch [1500/3000], Loss: 156761.0625\n",
            "Epoch [1600/3000], Loss: 156054.7344\n",
            "Epoch [1700/3000], Loss: 155476.1875\n",
            "Epoch [1800/3000], Loss: 154971.0938\n",
            "Epoch [1900/3000], Loss: 154579.3438\n",
            "Epoch [2000/3000], Loss: 154288.3438\n",
            "Epoch [2100/3000], Loss: 154002.6094\n",
            "Epoch [2200/3000], Loss: 153713.2188\n",
            "Epoch [2300/3000], Loss: 153549.7031\n",
            "Epoch [2400/3000], Loss: 153425.5781\n",
            "Epoch [2500/3000], Loss: 153317.7031\n",
            "Epoch [2600/3000], Loss: 153225.4219\n",
            "Epoch [2700/3000], Loss: 153137.7344\n",
            "Epoch [2800/3000], Loss: 153079.3438\n",
            "Epoch [2900/3000], Loss: 153032.0469\n",
            "Epoch [3000/3000], Loss: 152993.9219\n"
          ]
        }
      ],
      "source": [
        "# keep track of the loss every epoch. This is only for visualisation\n",
        "losses = []\n",
        "\n",
        "N_epochs = 3000\n",
        "\n",
        "for epoch in range(N_epochs):\n",
        "    # tell the optimizer to begin an optimization step\n",
        "    optimizer.zero_grad()\n",
        "\n",
        "    # use the model as a prediction function: features → prediction\n",
        "    predictions = model2(input_data2D)\n",
        "\n",
        "    # compute the loss (χ²) between these predictions and the intended targets\n",
        "    loss = loss_function(predictions, target)\n",
        "\n",
        "    # tell the loss function and optimizer to end an optimization step\n",
        "    loss.backward()\n",
        "    optimizer.step()\n",
        "\n",
        "    losses.append(loss.item())\n",
        "\n",
        "    # Print the loss every 10 epochs\n",
        "    if (epoch + 1) % 100 == 0:\n",
        "        print(f'Epoch [{epoch + 1}/{N_epochs}], Loss: {loss.item():.4f}')"
      ]
    },
    {
      "cell_type": "code",
      "execution_count": 23,
      "metadata": {
        "id": "Sa9hltguijS7",
        "outputId": "c632713a-5d36-4c5e-8f88-de0288297544",
        "colab": {
          "base_uri": "https://localhost:8080/",
          "height": 472
        }
      },
      "outputs": [
        {
          "output_type": "display_data",
          "data": {
            "text/plain": [
              "<Figure size 640x480 with 1 Axes>"
            ],
            "image/png": "[encoded data removed]"
          },
          "metadata": {}
        }
      ],
      "source": [
        "plot_loss_curve(losses)"
      ]
    },
    {
      "cell_type": "code",
      "execution_count": 24,
      "metadata": {
        "id": "4_HQ3iSzjI8n"
      },
      "outputs": [],
      "source": [
        "y_out2 = model2(input_data2D)\n",
        "y_pred2 = y_out2.detach()"
      ]
    },
    {
      "cell_type": "code",
      "source": [
        "import plotly.graph_objs as go\n",
        "import numpy as np\n",
        "import torch\n",
        "\n",
        "# Prepare data\n",
        "X = input_data2D.numpy()\n",
        "y = target.numpy().flatten()\n",
        "y_pred_np = model2(input_data2D).detach().numpy().flatten()\n",
        "\n",
        "# Create meshgrid\n",
        "x_range = np.linspace(X[:, 0].min(), X[:, 0].max(), 30)\n",
        "y_range = np.linspace(X[:, 1].min(), X[:, 1].max(), 30)\n",
        "x_surf, y_surf = np.meshgrid(x_range, y_range)\n",
        "xy_surf = np.stack([x_surf.ravel(), y_surf.ravel()], axis=1)\n",
        "z_surf = model2(torch.tensor(xy_surf, dtype=torch.float32)).detach().numpy().reshape(x_surf.shape)\n",
        "\n",
        "# Create 3D scatter plot and regression surface\n",
        "scatter = go.Scatter3d(\n",
        "    x=X[:, 0], y=X[:, 1], z=y,\n",
        "    mode='markers',\n",
        "    marker=dict(size=5, color='blue'),\n",
        "    name='Data Points'\n",
        ")\n",
        "\n",
        "surface = go.Surface(\n",
        "    x=x_surf, y=y_surf, z=z_surf,\n",
        "    colorscale='Reds',\n",
        "    opacity=0.6,\n",
        "    name='Regression Surface'\n",
        ")\n",
        "\n",
        "layout = go.Layout(\n",
        "    title='Interactive 3D Linear Regression',\n",
        "    scene=dict(\n",
        "        xaxis_title='Flipper Length (mm)',\n",
        "        yaxis_title='Bill Depth (mm)',\n",
        "        zaxis_title='Body Mass (g)'\n",
        "    ),\n",
        "    width=800,\n",
        "    height=600\n",
        ")\n",
        "\n",
        "fig = go.Figure(data=[scatter, surface], layout=layout)\n",
        "fig.show()\n",
        "\n"
      ],
      "metadata": {
        "id": "KKEZLGKhNlDv",
        "outputId": "bf2716a9-960b-49ae-c7ce-a9c473e19a6a",
        "colab": {
          "base_uri": "https://localhost:8080/",
          "height": 617
        }
      },
      "execution_count": 28,
      "outputs": [
        {
          "output_type": "display_data",
          "data": {
            "text/html": [
              "<html>\n",
              "<head><meta charset=\"utf-8\" /></head>\n",
              "<body>\n",
              "    <div>            <script src=\"https://cdnjs.cloudflare.com/ajax/libs/mathjax/2.7.5/MathJax.js?config=TeX-AMS-MML_SVG\"></script><script type=\"text/javascript\">if (window.MathJax && window.MathJax.Hub && window.MathJax.Hub.Config) {window.MathJax.Hub.Config({SVG: {font: \"STIX-Web\"}});}</script>                <script type=\"text/javascript\">window.PlotlyConfig = {MathJaxConfig: 'local'};</script>\n",
              "        <script charset=\"utf-8\" src=\"https://cdn.plot.ly/plotly-2.35.2.min.js\"></script>                <div id=\"ed60fcd0-438f-4835-8bf6-1597b5ff7ef0\" class=\"plotly-graph-div\" style=\"height:600px; width:800px;\"></div>            <script type=\"text/javascript\">                                    window.PLOTLYENV=window.PLOTLYENV || {};                                    if (document.getElementById(\"ed60fcd0-438f-4835-8bf6-1597b5ff7ef0\")) {                    Plotly.newPlot(                        \"ed60fcd0-438f-4835-8bf6-1597b5ff7ef0\",                        [{\"marker\":{\"color\":\"blue\",\"size\":5},\"mode\":\"markers\",\"name\":\"Data Points\",\"x\":[181.0,186.0,195.0,193.0,190.0,181.0,195.0,182.0,191.0,198.0,185.0,195.0,197.0,184.0,194.0,174.0,180.0,189.0,185.0,180.0,187.0,183.0,187.0,172.0,180.0,178.0,178.0,188.0,184.0,195.0,196.0,190.0,180.0,181.0,184.0,182.0,195.0,186.0,196.0,185.0,190.0,182.0,190.0,191.0,186.0,188.0,190.0,200.0,187.0,191.0,186.0,193.0,181.0,194.0,185.0,195.0,185.0,192.0,184.0,192.0,195.0,188.0,190.0,198.0,190.0,190.0,196.0,197.0,190.0,195.0,191.0,184.0,187.0,195.0,189.0,196.0,187.0,193.0,191.0,194.0,190.0,189.0,189.0,190.0,202.0,205.0,185.0,186.0,187.0,208.0,190.0,196.0,178.0,192.0,192.0,203.0,183.0,190.0,193.0,184.0,199.0,190.0,181.0,197.0,198.0,191.0,193.0,197.0,191.0,196.0,188.0,199.0,189.0,189.0,187.0,198.0,176.0,202.0,186.0,199.0,191.0,195.0,191.0,210.0,190.0,197.0,193.0,199.0,187.0,190.0,191.0,200.0,185.0,193.0,193.0,187.0,188.0,190.0,192.0,185.0,190.0,184.0,195.0,193.0,187.0,201.0,211.0,230.0,210.0,218.0,215.0,210.0,211.0,219.0,209.0,215.0,214.0,216.0,214.0,213.0,210.0,217.0,210.0,221.0,209.0,222.0,218.0,215.0,213.0,215.0,215.0,215.0,215.0,210.0,220.0,222.0,209.0,207.0,230.0,220.0,220.0,213.0,219.0,208.0,208.0,208.0,225.0,210.0,216.0,222.0,217.0,210.0,225.0,213.0,215.0,210.0,220.0,210.0,225.0,217.0,220.0,208.0,220.0,208.0,224.0,208.0,221.0,214.0,231.0,219.0,230.0,229.0,220.0,223.0,216.0,221.0,221.0,217.0,216.0,230.0,209.0,220.0,215.0,223.0,212.0,221.0,212.0,224.0,212.0,228.0,218.0,218.0,212.0,230.0,218.0,228.0,212.0,224.0,214.0,226.0,216.0,222.0,203.0,225.0,219.0,228.0,215.0,228.0,215.0,210.0,219.0,208.0,209.0,216.0,229.0,213.0,230.0,217.0,230.0,222.0,214.0,215.0,222.0,212.0,213.0,192.0,196.0,193.0,188.0,197.0,198.0,178.0,197.0,195.0,198.0,193.0,194.0,185.0,201.0,190.0,201.0,197.0,181.0,190.0,195.0,181.0,191.0,187.0,193.0,195.0,197.0,200.0,200.0,191.0,205.0,187.0,201.0,187.0,203.0,195.0,199.0,195.0,210.0,192.0,205.0,210.0,187.0,196.0,196.0,196.0,201.0,190.0,212.0,187.0,198.0,199.0,201.0,193.0,203.0,187.0,197.0,191.0,203.0,202.0,194.0,206.0,189.0,195.0,207.0,202.0,193.0,210.0,198.0],\"y\":[18.7,17.4,18.0,19.3,20.6,17.8,19.6,17.6,21.2,21.1,17.8,19.0,20.7,18.4,21.5,18.3,18.7,19.2,18.1,17.2,18.9,18.6,17.9,18.6,18.9,16.7,18.1,17.8,18.9,17.0,21.1,20.0,18.5,19.3,19.1,18.0,18.4,18.5,19.7,16.9,18.8,19.0,17.9,21.2,17.7,18.9,17.9,19.5,18.1,18.6,17.5,18.8,16.6,19.1,16.9,21.1,17.0,18.2,17.1,18.0,16.2,19.1,16.6,19.4,19.0,18.4,17.2,18.9,17.5,18.5,16.8,19.4,16.1,19.1,17.2,17.6,18.8,19.4,17.8,20.3,19.5,18.6,19.2,18.8,18.0,18.1,17.1,18.1,17.3,18.9,18.6,18.5,16.1,18.5,17.9,20.0,16.0,20.0,18.6,18.9,17.2,20.0,17.0,19.0,16.5,20.3,17.7,19.5,20.7,18.3,17.0,20.5,17.0,18.6,17.2,19.8,17.0,18.5,15.9,19.0,17.6,18.3,17.1,18.0,17.9,19.2,18.5,18.5,17.6,17.5,17.5,20.1,16.5,17.9,17.1,17.2,15.5,17.0,16.8,18.7,18.6,18.4,17.8,18.1,17.1,18.5,13.2,16.3,14.1,15.2,14.5,13.5,14.6,15.3,13.4,15.4,13.7,16.1,13.7,14.6,14.6,15.7,13.5,15.2,14.5,15.1,14.3,14.5,14.5,15.8,13.1,15.1,15.0,14.3,15.3,15.3,14.2,14.5,17.0,14.8,16.3,13.7,17.3,13.6,15.7,13.7,16.0,13.7,15.0,15.9,13.9,13.9,15.9,13.3,15.8,14.2,14.1,14.4,15.0,14.4,15.4,13.9,15.0,14.5,15.3,13.8,14.9,13.9,15.7,14.2,16.8,16.2,14.2,15.0,15.0,15.6,15.6,14.8,15.0,16.0,14.2,16.3,13.8,16.4,14.5,15.6,14.6,15.9,13.8,17.3,14.4,14.2,14.0,17.0,15.0,17.1,14.5,16.1,14.7,15.7,15.8,14.6,14.4,16.5,15.0,17.0,15.5,15.0,16.1,14.7,15.8,14.0,15.1,15.2,15.9,15.2,16.3,14.1,16.0,16.2,13.7,14.3,15.7,14.8,16.1,17.9,19.5,19.2,18.7,19.8,17.8,18.2,18.2,18.9,19.9,17.8,20.3,17.3,18.1,17.1,19.6,20.0,17.8,18.6,18.2,17.3,17.5,16.6,19.4,17.9,19.0,18.4,19.0,17.8,20.0,16.6,20.8,16.7,18.8,18.6,16.8,18.3,20.7,16.6,19.9,19.5,17.5,19.1,17.0,17.9,18.5,17.9,19.6,18.7,17.3,16.4,19.0,17.3,19.7,17.3,18.8,16.6,19.9,18.8,19.4,19.5,16.5,17.0,19.8,18.1,18.2,19.0,18.7],\"z\":[3750.0,3800.0,3250.0,3450.0,3650.0,3625.0,4675.0,3200.0,3800.0,4400.0,3700.0,3450.0,4500.0,3325.0,4200.0,3400.0,3600.0,3800.0,3950.0,3800.0,3800.0,3550.0,3200.0,3150.0,3950.0,3250.0,3900.0,3300.0,3900.0,3325.0,4150.0,3950.0,3550.0,3300.0,4650.0,3150.0,3900.0,3100.0,4400.0,3000.0,4600.0,3425.0,3450.0,4150.0,3500.0,4300.0,3450.0,4050.0,2900.0,3700.0,3550.0,3800.0,2850.0,3750.0,3150.0,4400.0,3600.0,4050.0,2850.0,3950.0,3350.0,4100.0,3050.0,4450.0,3600.0,3900.0,3550.0,4150.0,3700.0,4250.0,3700.0,3900.0,3550.0,4000.0,3200.0,4700.0,3800.0,4200.0,3350.0,3550.0,3800.0,3500.0,3950.0,3600.0,3550.0,4300.0,3400.0,4450.0,3300.0,4300.0,3700.0,4350.0,2900.0,4100.0,3725.0,4725.0,3075.0,4250.0,2925.0,3550.0,3750.0,3900.0,3175.0,4775.0,3825.0,4600.0,3200.0,4275.0,3900.0,4075.0,2900.0,3775.0,3350.0,3325.0,3150.0,3500.0,3450.0,3875.0,3050.0,4000.0,3275.0,4300.0,3050.0,4000.0,3325.0,3500.0,3500.0,4475.0,3425.0,3900.0,3175.0,3975.0,3400.0,4250.0,3400.0,3475.0,3050.0,3725.0,3000.0,3650.0,4250.0,3475.0,3450.0,3750.0,3700.0,4000.0,4500.0,5700.0,4450.0,5700.0,5400.0,4550.0,4800.0,5200.0,4400.0,5150.0,4650.0,5550.0,4650.0,5850.0,4200.0,5850.0,4150.0,6300.0,4800.0,5350.0,5700.0,5000.0,4400.0,5050.0,5000.0,5100.0,5650.0,4600.0,5550.0,5250.0,4700.0,5050.0,6050.0,5150.0,5400.0,4950.0,5250.0,4350.0,5350.0,3950.0,5700.0,4300.0,4750.0,5550.0,4900.0,4200.0,5400.0,5100.0,5300.0,4850.0,5300.0,4400.0,5000.0,4900.0,5050.0,4300.0,5000.0,4450.0,5550.0,4200.0,5300.0,4400.0,5650.0,4700.0,5700.0,5800.0,4700.0,5550.0,4750.0,5000.0,5100.0,5200.0,4700.0,5800.0,4600.0,6000.0,4750.0,5950.0,4625.0,5450.0,4725.0,5350.0,4750.0,5600.0,4600.0,5300.0,4875.0,5550.0,4950.0,5400.0,4750.0,5650.0,4850.0,5200.0,4925.0,4875.0,4625.0,5250.0,4850.0,5600.0,4975.0,5500.0,5500.0,4700.0,5500.0,4575.0,5500.0,5000.0,5950.0,4650.0,5500.0,4375.0,5850.0,6000.0,4925.0,4850.0,5750.0,5200.0,5400.0,3500.0,3900.0,3650.0,3525.0,3725.0,3950.0,3250.0,3750.0,4150.0,3700.0,3800.0,3775.0,3700.0,4050.0,3575.0,4050.0,3300.0,3700.0,3450.0,4400.0,3600.0,3400.0,2900.0,3800.0,3300.0,4150.0,3400.0,3800.0,3700.0,4550.0,3200.0,4300.0,3350.0,4100.0,3600.0,3900.0,3850.0,4800.0,2700.0,4500.0,3950.0,3650.0,3550.0,3500.0,3675.0,4450.0,3400.0,4300.0,3250.0,3675.0,3325.0,3950.0,3600.0,4050.0,3350.0,3450.0,3250.0,4050.0,3800.0,3525.0,3950.0,3650.0,3650.0,4000.0,3400.0,3775.0,4100.0,3775.0],\"type\":\"scatter3d\"},{\"colorscale\":[[0.0,\"rgb(255,245,240)\"],[0.125,\"rgb(254,224,210)\"],[0.25,\"rgb(252,187,161)\"],[0.375,\"rgb(252,146,114)\"],[0.5,\"rgb(251,106,74)\"],[0.625,\"rgb(239,59,44)\"],[0.75,\"rgb(203,24,29)\"],[0.875,\"rgb(165,15,21)\"],[1.0,\"rgb(103,0,13)\"]],\"name\":\"Regression Surface\",\"opacity\":0.6,\"x\":[[172.0,174.03448,176.06897,178.10345,180.13792,182.17241,184.2069,186.24138,188.27586,190.31035,192.34483,194.3793,196.41379,198.44827,200.48276,202.51724,204.55173,206.58621,208.6207,210.65517,212.68965,214.72414,216.75862,218.7931,220.82758,222.86206,224.89655,226.93103,228.96552,231.0],[172.0,174.03448,176.06897,178.10345,180.13792,182.17241,184.2069,186.24138,188.27586,190.31035,192.34483,194.3793,196.41379,198.44827,200.48276,202.51724,204.55173,206.58621,208.6207,210.65517,212.68965,214.72414,216.75862,218.7931,220.82758,222.86206,224.89655,226.93103,228.96552,231.0],[172.0,174.03448,176.06897,178.10345,180.13792,182.17241,184.2069,186.24138,188.27586,190.31035,192.34483,194.3793,196.41379,198.44827,200.48276,202.51724,204.55173,206.58621,208.6207,210.65517,212.68965,214.72414,216.75862,218.7931,220.82758,222.86206,224.89655,226.93103,228.96552,231.0],[172.0,174.03448,176.06897,178.10345,180.13792,182.17241,184.2069,186.24138,188.27586,190.31035,192.34483,194.3793,196.41379,198.44827,200.48276,202.51724,204.55173,206.58621,208.6207,210.65517,212.68965,214.72414,216.75862,218.7931,220.82758,222.86206,224.89655,226.93103,228.96552,231.0],[172.0,174.03448,176.06897,178.10345,180.13792,182.17241,184.2069,186.24138,188.27586,190.31035,192.34483,194.3793,196.41379,198.44827,200.48276,202.51724,204.55173,206.58621,208.6207,210.65517,212.68965,214.72414,216.75862,218.7931,220.82758,222.86206,224.89655,226.93103,228.96552,231.0],[172.0,174.03448,176.06897,178.10345,180.13792,182.17241,184.2069,186.24138,188.27586,190.31035,192.34483,194.3793,196.41379,198.44827,200.48276,202.51724,204.55173,206.58621,208.6207,210.65517,212.68965,214.72414,216.75862,218.7931,220.82758,222.86206,224.89655,226.93103,228.96552,231.0],[172.0,174.03448,176.06897,178.10345,180.13792,182.17241,184.2069,186.24138,188.27586,190.31035,192.34483,194.3793,196.41379,198.44827,200.48276,202.51724,204.55173,206.58621,208.6207,210.65517,212.68965,214.72414,216.75862,218.7931,220.82758,222.86206,224.89655,226.93103,228.96552,231.0],[172.0,174.03448,176.06897,178.10345,180.13792,182.17241,184.2069,186.24138,188.27586,190.31035,192.34483,194.3793,196.41379,198.44827,200.48276,202.51724,204.55173,206.58621,208.6207,210.65517,212.68965,214.72414,216.75862,218.7931,220.82758,222.86206,224.89655,226.93103,228.96552,231.0],[172.0,174.03448,176.06897,178.10345,180.13792,182.17241,184.2069,186.24138,188.27586,190.31035,192.34483,194.3793,196.41379,198.44827,200.48276,202.51724,204.55173,206.58621,208.6207,210.65517,212.68965,214.72414,216.75862,218.7931,220.82758,222.86206,224.89655,226.93103,228.96552,231.0],[172.0,174.03448,176.06897,178.10345,180.13792,182.17241,184.2069,186.24138,188.27586,190.31035,192.34483,194.3793,196.41379,198.44827,200.48276,202.51724,204.55173,206.58621,208.6207,210.65517,212.68965,214.72414,216.75862,218.7931,220.82758,222.86206,224.89655,226.93103,228.96552,231.0],[172.0,174.03448,176.06897,178.10345,180.13792,182.17241,184.2069,186.24138,188.27586,190.31035,192.34483,194.3793,196.41379,198.44827,200.48276,202.51724,204.55173,206.58621,208.6207,210.65517,212.68965,214.72414,216.75862,218.7931,220.82758,222.86206,224.89655,226.93103,228.96552,231.0],[172.0,174.03448,176.06897,178.10345,180.13792,182.17241,184.2069,186.24138,188.27586,190.31035,192.34483,194.3793,196.41379,198.44827,200.48276,202.51724,204.55173,206.58621,208.6207,210.65517,212.68965,214.72414,216.75862,218.7931,220.82758,222.86206,224.89655,226.93103,228.96552,231.0],[172.0,174.03448,176.06897,178.10345,180.13792,182.17241,184.2069,186.24138,188.27586,190.31035,192.34483,194.3793,196.41379,198.44827,200.48276,202.51724,204.55173,206.58621,208.6207,210.65517,212.68965,214.72414,216.75862,218.7931,220.82758,222.86206,224.89655,226.93103,228.96552,231.0],[172.0,174.03448,176.06897,178.10345,180.13792,182.17241,184.2069,186.24138,188.27586,190.31035,192.34483,194.3793,196.41379,198.44827,200.48276,202.51724,204.55173,206.58621,208.6207,210.65517,212.68965,214.72414,216.75862,218.7931,220.82758,222.86206,224.89655,226.93103,228.96552,231.0],[172.0,174.03448,176.06897,178.10345,180.13792,182.17241,184.2069,186.24138,188.27586,190.31035,192.34483,194.3793,196.41379,198.44827,200.48276,202.51724,204.55173,206.58621,208.6207,210.65517,212.68965,214.72414,216.75862,218.7931,220.82758,222.86206,224.89655,226.93103,228.96552,231.0],[172.0,174.03448,176.06897,178.10345,180.13792,182.17241,184.2069,186.24138,188.27586,190.31035,192.34483,194.3793,196.41379,198.44827,200.48276,202.51724,204.55173,206.58621,208.6207,210.65517,212.68965,214.72414,216.75862,218.7931,220.82758,222.86206,224.89655,226.93103,228.96552,231.0],[172.0,174.03448,176.06897,178.10345,180.13792,182.17241,184.2069,186.24138,188.27586,190.31035,192.34483,194.3793,196.41379,198.44827,200.48276,202.51724,204.55173,206.58621,208.6207,210.65517,212.68965,214.72414,216.75862,218.7931,220.82758,222.86206,224.89655,226.93103,228.96552,231.0],[172.0,174.03448,176.06897,178.10345,180.13792,182.17241,184.2069,186.24138,188.27586,190.31035,192.34483,194.3793,196.41379,198.44827,200.48276,202.51724,204.55173,206.58621,208.6207,210.65517,212.68965,214.72414,216.75862,218.7931,220.82758,222.86206,224.89655,226.93103,228.96552,231.0],[172.0,174.03448,176.06897,178.10345,180.13792,182.17241,184.2069,186.24138,188.27586,190.31035,192.34483,194.3793,196.41379,198.44827,200.48276,202.51724,204.55173,206.58621,208.6207,210.65517,212.68965,214.72414,216.75862,218.7931,220.82758,222.86206,224.89655,226.93103,228.96552,231.0],[172.0,174.03448,176.06897,178.10345,180.13792,182.17241,184.2069,186.24138,188.27586,190.31035,192.34483,194.3793,196.41379,198.44827,200.48276,202.51724,204.55173,206.58621,208.6207,210.65517,212.68965,214.72414,216.75862,218.7931,220.82758,222.86206,224.89655,226.93103,228.96552,231.0],[172.0,174.03448,176.06897,178.10345,180.13792,182.17241,184.2069,186.24138,188.27586,190.31035,192.34483,194.3793,196.41379,198.44827,200.48276,202.51724,204.55173,206.58621,208.6207,210.65517,212.68965,214.72414,216.75862,218.7931,220.82758,222.86206,224.89655,226.93103,228.96552,231.0],[172.0,174.03448,176.06897,178.10345,180.13792,182.17241,184.2069,186.24138,188.27586,190.31035,192.34483,194.3793,196.41379,198.44827,200.48276,202.51724,204.55173,206.58621,208.6207,210.65517,212.68965,214.72414,216.75862,218.7931,220.82758,222.86206,224.89655,226.93103,228.96552,231.0],[172.0,174.03448,176.06897,178.10345,180.13792,182.17241,184.2069,186.24138,188.27586,190.31035,192.34483,194.3793,196.41379,198.44827,200.48276,202.51724,204.55173,206.58621,208.6207,210.65517,212.68965,214.72414,216.75862,218.7931,220.82758,222.86206,224.89655,226.93103,228.96552,231.0],[172.0,174.03448,176.06897,178.10345,180.13792,182.17241,184.2069,186.24138,188.27586,190.31035,192.34483,194.3793,196.41379,198.44827,200.48276,202.51724,204.55173,206.58621,208.6207,210.65517,212.68965,214.72414,216.75862,218.7931,220.82758,222.86206,224.89655,226.93103,228.96552,231.0],[172.0,174.03448,176.06897,178.10345,180.13792,182.17241,184.2069,186.24138,188.27586,190.31035,192.34483,194.3793,196.41379,198.44827,200.48276,202.51724,204.55173,206.58621,208.6207,210.65517,212.68965,214.72414,216.75862,218.7931,220.82758,222.86206,224.89655,226.93103,228.96552,231.0],[172.0,174.03448,176.06897,178.10345,180.13792,182.17241,184.2069,186.24138,188.27586,190.31035,192.34483,194.3793,196.41379,198.44827,200.48276,202.51724,204.55173,206.58621,208.6207,210.65517,212.68965,214.72414,216.75862,218.7931,220.82758,222.86206,224.89655,226.93103,228.96552,231.0],[172.0,174.03448,176.06897,178.10345,180.13792,182.17241,184.2069,186.24138,188.27586,190.31035,192.34483,194.3793,196.41379,198.44827,200.48276,202.51724,204.55173,206.58621,208.6207,210.65517,212.68965,214.72414,216.75862,218.7931,220.82758,222.86206,224.89655,226.93103,228.96552,231.0],[172.0,174.03448,176.06897,178.10345,180.13792,182.17241,184.2069,186.24138,188.27586,190.31035,192.34483,194.3793,196.41379,198.44827,200.48276,202.51724,204.55173,206.58621,208.6207,210.65517,212.68965,214.72414,216.75862,218.7931,220.82758,222.86206,224.89655,226.93103,228.96552,231.0],[172.0,174.03448,176.06897,178.10345,180.13792,182.17241,184.2069,186.24138,188.27586,190.31035,192.34483,194.3793,196.41379,198.44827,200.48276,202.51724,204.55173,206.58621,208.6207,210.65517,212.68965,214.72414,216.75862,218.7931,220.82758,222.86206,224.89655,226.93103,228.96552,231.0],[172.0,174.03448,176.06897,178.10345,180.13792,182.17241,184.2069,186.24138,188.27586,190.31035,192.34483,194.3793,196.41379,198.44827,200.48276,202.51724,204.55173,206.58621,208.6207,210.65517,212.68965,214.72414,216.75862,218.7931,220.82758,222.86206,224.89655,226.93103,228.96552,231.0]],\"y\":[[13.1,13.1,13.1,13.1,13.1,13.1,13.1,13.1,13.1,13.1,13.1,13.1,13.1,13.1,13.1,13.1,13.1,13.1,13.1,13.1,13.1,13.1,13.1,13.1,13.1,13.1,13.1,13.1,13.1,13.1],[13.389655,13.389655,13.389655,13.389655,13.389655,13.389655,13.389655,13.389655,13.389655,13.389655,13.389655,13.389655,13.389655,13.389655,13.389655,13.389655,13.389655,13.389655,13.389655,13.389655,13.389655,13.389655,13.389655,13.389655,13.389655,13.389655,13.389655,13.389655,13.389655,13.389655],[13.679311,13.679311,13.679311,13.679311,13.679311,13.679311,13.679311,13.679311,13.679311,13.679311,13.679311,13.679311,13.679311,13.679311,13.679311,13.679311,13.679311,13.679311,13.679311,13.679311,13.679311,13.679311,13.679311,13.679311,13.679311,13.679311,13.679311,13.679311,13.679311,13.679311],[13.968966,13.968966,13.968966,13.968966,13.968966,13.968966,13.968966,13.968966,13.968966,13.968966,13.968966,13.968966,13.968966,13.968966,13.968966,13.968966,13.968966,13.968966,13.968966,13.968966,13.968966,13.968966,13.968966,13.968966,13.968966,13.968966,13.968966,13.968966,13.968966,13.968966],[14.258621,14.258621,14.258621,14.258621,14.258621,14.258621,14.258621,14.258621,14.258621,14.258621,14.258621,14.258621,14.258621,14.258621,14.258621,14.258621,14.258621,14.258621,14.258621,14.258621,14.258621,14.258621,14.258621,14.258621,14.258621,14.258621,14.258621,14.258621,14.258621,14.258621],[14.548276,14.548276,14.548276,14.548276,14.548276,14.548276,14.548276,14.548276,14.548276,14.548276,14.548276,14.548276,14.548276,14.548276,14.548276,14.548276,14.548276,14.548276,14.548276,14.548276,14.548276,14.548276,14.548276,14.548276,14.548276,14.548276,14.548276,14.548276,14.548276,14.548276],[14.837932,14.837932,14.837932,14.837932,14.837932,14.837932,14.837932,14.837932,14.837932,14.837932,14.837932,14.837932,14.837932,14.837932,14.837932,14.837932,14.837932,14.837932,14.837932,14.837932,14.837932,14.837932,14.837932,14.837932,14.837932,14.837932,14.837932,14.837932,14.837932,14.837932],[15.127586,15.127586,15.127586,15.127586,15.127586,15.127586,15.127586,15.127586,15.127586,15.127586,15.127586,15.127586,15.127586,15.127586,15.127586,15.127586,15.127586,15.127586,15.127586,15.127586,15.127586,15.127586,15.127586,15.127586,15.127586,15.127586,15.127586,15.127586,15.127586,15.127586],[15.417242,15.417242,15.417242,15.417242,15.417242,15.417242,15.417242,15.417242,15.417242,15.417242,15.417242,15.417242,15.417242,15.417242,15.417242,15.417242,15.417242,15.417242,15.417242,15.417242,15.417242,15.417242,15.417242,15.417242,15.417242,15.417242,15.417242,15.417242,15.417242,15.417242],[15.706897,15.706897,15.706897,15.706897,15.706897,15.706897,15.706897,15.706897,15.706897,15.706897,15.706897,15.706897,15.706897,15.706897,15.706897,15.706897,15.706897,15.706897,15.706897,15.706897,15.706897,15.706897,15.706897,15.706897,15.706897,15.706897,15.706897,15.706897,15.706897,15.706897],[15.9965515,15.9965515,15.9965515,15.9965515,15.9965515,15.9965515,15.9965515,15.9965515,15.9965515,15.9965515,15.9965515,15.9965515,15.9965515,15.9965515,15.9965515,15.9965515,15.9965515,15.9965515,15.9965515,15.9965515,15.9965515,15.9965515,15.9965515,15.9965515,15.9965515,15.9965515,15.9965515,15.9965515,15.9965515,15.9965515],[16.286207,16.286207,16.286207,16.286207,16.286207,16.286207,16.286207,16.286207,16.286207,16.286207,16.286207,16.286207,16.286207,16.286207,16.286207,16.286207,16.286207,16.286207,16.286207,16.286207,16.286207,16.286207,16.286207,16.286207,16.286207,16.286207,16.286207,16.286207,16.286207,16.286207],[16.575863,16.575863,16.575863,16.575863,16.575863,16.575863,16.575863,16.575863,16.575863,16.575863,16.575863,16.575863,16.575863,16.575863,16.575863,16.575863,16.575863,16.575863,16.575863,16.575863,16.575863,16.575863,16.575863,16.575863,16.575863,16.575863,16.575863,16.575863,16.575863,16.575863],[16.865517,16.865517,16.865517,16.865517,16.865517,16.865517,16.865517,16.865517,16.865517,16.865517,16.865517,16.865517,16.865517,16.865517,16.865517,16.865517,16.865517,16.865517,16.865517,16.865517,16.865517,16.865517,16.865517,16.865517,16.865517,16.865517,16.865517,16.865517,16.865517,16.865517],[17.155172,17.155172,17.155172,17.155172,17.155172,17.155172,17.155172,17.155172,17.155172,17.155172,17.155172,17.155172,17.155172,17.155172,17.155172,17.155172,17.155172,17.155172,17.155172,17.155172,17.155172,17.155172,17.155172,17.155172,17.155172,17.155172,17.155172,17.155172,17.155172,17.155172],[17.444828,17.444828,17.444828,17.444828,17.444828,17.444828,17.444828,17.444828,17.444828,17.444828,17.444828,17.444828,17.444828,17.444828,17.444828,17.444828,17.444828,17.444828,17.444828,17.444828,17.444828,17.444828,17.444828,17.444828,17.444828,17.444828,17.444828,17.444828,17.444828,17.444828],[17.734482,17.734482,17.734482,17.734482,17.734482,17.734482,17.734482,17.734482,17.734482,17.734482,17.734482,17.734482,17.734482,17.734482,17.734482,17.734482,17.734482,17.734482,17.734482,17.734482,17.734482,17.734482,17.734482,17.734482,17.734482,17.734482,17.734482,17.734482,17.734482,17.734482],[18.024137,18.024137,18.024137,18.024137,18.024137,18.024137,18.024137,18.024137,18.024137,18.024137,18.024137,18.024137,18.024137,18.024137,18.024137,18.024137,18.024137,18.024137,18.024137,18.024137,18.024137,18.024137,18.024137,18.024137,18.024137,18.024137,18.024137,18.024137,18.024137,18.024137],[18.313793,18.313793,18.313793,18.313793,18.313793,18.313793,18.313793,18.313793,18.313793,18.313793,18.313793,18.313793,18.313793,18.313793,18.313793,18.313793,18.313793,18.313793,18.313793,18.313793,18.313793,18.313793,18.313793,18.313793,18.313793,18.313793,18.313793,18.313793,18.313793,18.313793],[18.603449,18.603449,18.603449,18.603449,18.603449,18.603449,18.603449,18.603449,18.603449,18.603449,18.603449,18.603449,18.603449,18.603449,18.603449,18.603449,18.603449,18.603449,18.603449,18.603449,18.603449,18.603449,18.603449,18.603449,18.603449,18.603449,18.603449,18.603449,18.603449,18.603449],[18.893105,18.893105,18.893105,18.893105,18.893105,18.893105,18.893105,18.893105,18.893105,18.893105,18.893105,18.893105,18.893105,18.893105,18.893105,18.893105,18.893105,18.893105,18.893105,18.893105,18.893105,18.893105,18.893105,18.893105,18.893105,18.893105,18.893105,18.893105,18.893105,18.893105],[19.182758,19.182758,19.182758,19.182758,19.182758,19.182758,19.182758,19.182758,19.182758,19.182758,19.182758,19.182758,19.182758,19.182758,19.182758,19.182758,19.182758,19.182758,19.182758,19.182758,19.182758,19.182758,19.182758,19.182758,19.182758,19.182758,19.182758,19.182758,19.182758,19.182758],[19.472414,19.472414,19.472414,19.472414,19.472414,19.472414,19.472414,19.472414,19.472414,19.472414,19.472414,19.472414,19.472414,19.472414,19.472414,19.472414,19.472414,19.472414,19.472414,19.472414,19.472414,19.472414,19.472414,19.472414,19.472414,19.472414,19.472414,19.472414,19.472414,19.472414],[19.76207,19.76207,19.76207,19.76207,19.76207,19.76207,19.76207,19.76207,19.76207,19.76207,19.76207,19.76207,19.76207,19.76207,19.76207,19.76207,19.76207,19.76207,19.76207,19.76207,19.76207,19.76207,19.76207,19.76207,19.76207,19.76207,19.76207,19.76207,19.76207,19.76207],[20.051723,20.051723,20.051723,20.051723,20.051723,20.051723,20.051723,20.051723,20.051723,20.051723,20.051723,20.051723,20.051723,20.051723,20.051723,20.051723,20.051723,20.051723,20.051723,20.051723,20.051723,20.051723,20.051723,20.051723,20.051723,20.051723,20.051723,20.051723,20.051723,20.051723],[20.34138,20.34138,20.34138,20.34138,20.34138,20.34138,20.34138,20.34138,20.34138,20.34138,20.34138,20.34138,20.34138,20.34138,20.34138,20.34138,20.34138,20.34138,20.34138,20.34138,20.34138,20.34138,20.34138,20.34138,20.34138,20.34138,20.34138,20.34138,20.34138,20.34138],[20.631035,20.631035,20.631035,20.631035,20.631035,20.631035,20.631035,20.631035,20.631035,20.631035,20.631035,20.631035,20.631035,20.631035,20.631035,20.631035,20.631035,20.631035,20.631035,20.631035,20.631035,20.631035,20.631035,20.631035,20.631035,20.631035,20.631035,20.631035,20.631035,20.631035],[20.920689,20.920689,20.920689,20.920689,20.920689,20.920689,20.920689,20.920689,20.920689,20.920689,20.920689,20.920689,20.920689,20.920689,20.920689,20.920689,20.920689,20.920689,20.920689,20.920689,20.920689,20.920689,20.920689,20.920689,20.920689,20.920689,20.920689,20.920689,20.920689,20.920689],[21.210344,21.210344,21.210344,21.210344,21.210344,21.210344,21.210344,21.210344,21.210344,21.210344,21.210344,21.210344,21.210344,21.210344,21.210344,21.210344,21.210344,21.210344,21.210344,21.210344,21.210344,21.210344,21.210344,21.210344,21.210344,21.210344,21.210344,21.210344,21.210344,21.210344],[21.5,21.5,21.5,21.5,21.5,21.5,21.5,21.5,21.5,21.5,21.5,21.5,21.5,21.5,21.5,21.5,21.5,21.5,21.5,21.5,21.5,21.5,21.5,21.5,21.5,21.5,21.5,21.5,21.5,21.5]],\"z\":[[2693.358,2796.2095,2899.061,3001.9126,3104.7632,3207.6147,3310.4663,3413.3179,3516.1694,3619.021,3721.8726,3824.7231,3927.5747,4030.4263,4133.278,4236.1304,4338.982,4441.8335,4544.685,4647.5356,4750.387,4853.239,4956.0903,5058.942,5161.7925,5264.644,5367.4956,5470.347,5573.1987,5676.0503],[2696.8706,2799.7222,2902.5737,3005.4253,3108.276,3211.1274,3313.979,3416.8306,3519.6821,3622.5337,3725.3853,3828.2358,3931.0874,4033.939,4136.7905,4239.643,4342.4946,4445.346,4548.1978,4651.0483,4753.9,4856.7515,4959.603,5062.4546,5165.305,5268.1567,5371.0083,5473.86,5576.7114,5679.563],[2700.3843,2803.2358,2906.0874,3008.939,3111.7896,3214.641,3317.4927,3420.3442,3523.1958,3626.0474,3728.899,3831.7495,3934.601,4037.4526,4140.304,4243.1567,4346.0083,4448.86,4551.7114,4654.562,4757.4136,4860.265,4963.1167,5065.9683,5168.819,5271.6704,5374.522,5477.3735,5580.225,5683.0767],[2703.897,2806.7485,2909.6,3012.4517,3115.3022,3218.1538,3321.0054,3423.857,3526.7085,3629.56,3732.4116,3835.2622,3938.1138,4040.9653,4143.817,4246.6694,4349.521,4452.3726,4555.224,4658.0747,4760.9263,4863.778,4966.6294,5069.481,5172.3315,5275.183,5378.0347,5480.886,5583.738,5686.5894],[2707.4097,2810.2612,2913.1128,3015.9644,3118.815,3221.6665,3324.518,3427.3696,3530.2212,3633.0728,3735.9243,3838.775,3941.6265,4044.478,4147.3296,4250.182,4353.0337,4455.8853,4558.737,4661.5874,4764.439,4867.2905,4970.142,5072.9937,5175.844,5278.696,5381.5474,5484.399,5587.2505,5690.102],[2710.9224,2813.774,2916.6255,3019.477,3122.3276,3225.1792,3328.0308,3430.8823,3533.734,3636.5854,3739.437,3842.2876,3945.1392,4047.9907,4150.8423,4253.695,4356.5464,4459.398,4562.2495,4665.1,4767.9517,4870.803,4973.655,5076.5063,5179.357,5282.2085,5385.06,5487.9116,5590.763,5693.6147],[2714.435,2817.2866,2920.1382,3022.9897,3125.8403,3228.692,3331.5435,3434.395,3537.2466,3640.0981,3742.9497,3845.8003,3948.6519,4051.5034,4154.355,4257.2075,4360.059,4462.9106,4565.762,4668.613,4771.4644,4874.316,4977.1675,5080.019,5182.8696,5285.721,5388.5728,5491.4243,5594.276,5697.1274],[2717.9487,2820.8003,2923.6519,3026.5034,3129.354,3232.2056,3335.0571,3437.9087,3540.7603,3643.6118,3746.4634,3849.314,3952.1655,4055.017,4157.8687,4260.721,4363.5728,4466.4243,4569.276,4672.1265,4774.978,4877.8296,4980.681,5083.5327,5186.3833,5289.235,5392.0864,5494.938,5597.7896,5700.641],[2721.4614,2824.313,2927.1646,3030.016,3132.8667,3235.7183,3338.5698,3441.4214,3544.273,3647.1245,3749.976,3852.8267,3955.6782,4058.5298,4161.3813,4264.234,4367.0854,4469.937,4572.7886,4675.639,4778.4907,4881.3423,4984.194,5087.0454,5189.896,5292.7476,5395.599,5498.4507,5601.3022,5704.154],[2724.974,2827.8257,2930.6772,3033.5288,3136.3794,3239.231,3342.0825,3444.934,3547.7856,3650.6372,3753.4888,3856.3394,3959.191,4062.0425,4164.894,4267.7466,4370.598,4473.4497,4576.3013,4679.152,4782.0034,4884.855,4987.7065,5090.558,5193.4087,5296.2603,5399.112,5501.9634,5604.815,5707.6665],[2728.4868,2831.3384,2934.19,3037.0415,3139.892,3242.7437,3345.5952,3448.4468,3551.2983,3654.15,3757.0015,3859.852,3962.7036,4065.5552,4168.4067,4271.2593,4374.111,4476.9624,4579.814,4682.6646,4785.516,4888.3677,4991.219,5094.071,5196.9214,5299.773,5402.6245,5505.476,5608.3276,5711.179],[2731.9995,2834.851,2937.7026,3040.5542,3143.4048,3246.2563,3349.108,3451.9595,3554.811,3657.6626,3760.5142,3863.3647,3966.2163,4069.0679,4171.9194,4274.772,4377.6235,4480.475,4583.3267,4686.1772,4789.029,4891.8804,4994.732,5097.5835,5200.434,5303.2856,5406.137,5508.989,5611.8403,5714.692],[2735.5122,2838.3638,2941.2153,3044.067,3146.9175,3249.769,3352.6206,3455.4722,3558.3237,3661.1753,3764.0269,3866.8774,3969.729,4072.5806,4175.432,4278.2847,4381.136,4483.988,4586.8394,4689.69,4792.5415,4895.393,4998.2446,5101.096,5203.947,5306.7983,5409.65,5512.5015,5615.353,5718.2046],[2739.026,2841.8774,2944.729,3047.5806,3150.4312,3253.2827,3356.1343,3458.9858,3561.8374,3664.689,3767.5405,3870.391,3973.2427,4076.0942,4178.946,4281.7983,4384.65,4487.5015,4590.353,4693.2036,4796.055,4898.9067,5001.7583,5104.61,5207.4604,5310.312,5413.1636,5516.015,5618.8667,5721.7183],[2742.5386,2845.3901,2948.2417,3051.0933,3153.9438,3256.7954,3359.647,3462.4985,3565.35,3668.2017,3771.0532,3873.9038,3976.7554,4079.607,4182.4585,4285.311,4388.1626,4491.014,4593.8657,4696.7163,4799.568,4902.4194,5005.271,5108.1226,5210.973,5313.8247,5416.6763,5519.528,5622.3794,5725.231],[2746.0513,2848.9028,2951.7544,3054.606,3157.4565,3260.308,3363.1597,3466.0112,3568.8628,3671.7144,3774.566,3877.4165,3980.268,4083.1196,4185.971,4288.8237,4391.6753,4494.527,4597.3784,4700.229,4803.0806,4905.932,5008.7837,5111.6353,5214.486,5317.3374,5420.189,5523.0405,5625.892,5728.7437],[2749.564,2852.4155,2955.267,3058.1187,3160.9692,3263.8208,3366.6724,3469.524,3572.3755,3675.227,3778.0786,3880.9292,3983.7808,4086.6323,4189.484,4292.3364,4395.188,4498.0396,4600.891,4703.7417,4806.5933,4909.445,5012.2964,5115.148,5217.9985,5320.85,5423.7017,5526.553,5629.405,5732.2563],[2753.0767,2855.9282,2958.7798,3061.6313,3164.482,3267.3335,3370.185,3473.0366,3575.8882,3678.7397,3781.5913,3884.442,3987.2935,4090.145,4192.9966,4295.849,4398.7007,4501.5522,4604.404,4707.2544,4810.106,4912.9575,5015.809,5118.6606,5221.511,5324.363,5427.2144,5530.066,5632.9175,5735.769],[2756.5903,2859.442,2962.2935,3065.145,3167.9956,3270.8472,3373.6987,3476.5503,3579.4019,3682.2534,3785.105,3887.9556,3990.8071,4093.6587,4196.5103,4299.363,4402.2144,4505.066,4607.9175,4710.768,4813.6196,4916.471,5019.3228,5122.1743,5225.025,5327.8765,5430.728,5533.5796,5636.431,5739.2827],[2760.103,2862.9546,2965.8062,3068.6577,3171.5083,3274.3599,3377.2114,3480.063,3582.9146,3685.766,3788.6177,3891.4683,3994.3198,4097.1714,4200.023,4302.8755,4405.727,4508.5786,4611.43,4714.281,4817.1323,4919.984,5022.8354,5125.687,5228.5376,5331.389,5434.2407,5537.0923,5639.944,5742.7954],[2763.6157,2866.4673,2969.3188,3072.1704,3175.021,3277.8726,3380.724,3483.5757,3586.4272,3689.2788,3792.1304,3894.981,3997.8325,4100.684,4203.5356,4306.388,4409.2397,4512.0913,4614.943,4717.7935,4820.645,4923.4966,5026.348,5129.1997,5232.0503,5334.902,5437.7534,5540.605,5643.4565,5746.308],[2767.1284,2869.98,2972.8315,3075.683,3178.5337,3281.3853,3384.2368,3487.0884,3589.94,3692.7915,3795.643,3898.4937,4001.3452,4104.197,4207.0483,4309.901,4412.7524,4515.604,4618.4556,4721.306,4824.1577,4927.0093,5029.861,5132.7124,5235.563,5338.4146,5441.266,5544.1177,5646.969,5749.821],[2770.641,2873.4927,2976.3442,3079.1958,3182.0464,3284.898,3387.7495,3490.601,3593.4526,3696.3042,3799.1558,3902.0063,4004.858,4107.7095,4210.561,4313.4136,4416.265,4519.1167,4621.9683,4724.819,4827.6704,4930.522,5033.3735,5136.225,5239.0757,5341.9272,5444.779,5547.6304,5650.482,5753.3335],[2774.1548,2877.0063,2979.858,3082.7095,3185.56,3288.4116,3391.2632,3494.1147,3596.9663,3699.8179,3802.6694,3905.52,4008.3716,4111.223,4214.0747,4316.9272,4419.779,4522.6304,4625.482,4728.3325,4831.184,4934.0356,5036.887,5139.739,5242.5894,5345.441,5448.2925,5551.144,5653.9956,5756.847],[2777.6675,2880.519,2983.3706,3086.2222,3189.0728,3291.9243,3394.776,3497.6274,3600.479,3703.3306,3806.1821,3909.0327,4011.8843,4114.736,4217.5874,4320.44,4423.2915,4526.143,4628.9946,4731.845,4834.697,4937.5483,5040.4,5143.2515,5246.102,5348.9536,5451.805,5554.6567,5657.5083,5760.36],[2781.1802,2884.0317,2986.8833,3089.7349,3192.5854,3295.437,3398.2886,3501.1401,3603.9917,3706.8433,3809.6948,3912.5454,4015.397,4118.2485,4221.1,4323.9526,4426.804,4529.656,4632.5073,4735.358,4838.2095,4941.061,5043.9126,5146.764,5249.6147,5352.4663,5455.318,5558.1694,5661.021,5763.8726],[2784.6929,2887.5444,2990.396,3093.2476,3196.0981,3298.9497,3401.8013,3504.6528,3607.5044,3710.356,3813.2075,3916.058,4018.9097,4121.761,4224.613,4327.4653,4430.317,4533.1685,4636.02,4738.8706,4841.722,4944.5737,5047.4253,5150.277,5253.1274,5355.979,5458.8306,5561.682,5664.5337,5767.3853],[2788.2056,2891.0571,2993.9087,3096.7603,3199.6108,3302.4624,3405.314,3508.1655,3611.017,3713.8687,3816.7202,3919.5708,4022.4224,4125.274,4228.1255,4330.978,4433.8296,4536.681,4639.5327,4742.3833,4845.235,4948.0864,5050.938,5153.7896,5256.64,5359.4917,5462.3433,5565.195,5668.0464,5770.898],[2791.7192,2894.5708,2997.4224,3100.274,3203.1235,3305.975,3408.8267,3511.6782,3614.5298,3717.3813,3820.233,3923.0845,4025.936,4128.7876,4231.639,4334.4907,4437.3423,4540.194,4643.0454,4745.897,4848.7485,4951.6,5054.4517,5157.303,5260.153,5363.0044,5465.856,5568.7075,5671.559,5774.4106],[2795.232,2898.0835,3000.935,3103.7866,3206.6372,3309.4888,3412.3403,3515.192,3618.0435,3720.895,3823.7466,3926.5972,4029.4487,4132.3003,4235.152,4338.0044,4440.856,4543.7075,4646.559,4749.4097,4852.261,4955.113,5057.9644,5160.816,5263.6665,5366.518,5469.3696,5572.221,5675.0728,5777.9243]],\"type\":\"surface\"}],                        {\"height\":600,\"scene\":{\"xaxis\":{\"title\":{\"text\":\"Flipper Length (mm)\"}},\"yaxis\":{\"title\":{\"text\":\"Bill Depth (mm)\"}},\"zaxis\":{\"title\":{\"text\":\"Body Mass (g)\"}}},\"title\":{\"text\":\"Interactive 3D Linear Regression\"},\"width\":800,\"template\":{\"data\":{\"histogram2dcontour\":[{\"type\":\"histogram2dcontour\",\"colorbar\":{\"outlinewidth\":0,\"ticks\":\"\"},\"colorscale\":[[0.0,\"#0d0887\"],[0.1111111111111111,\"#46039f\"],[0.2222222222222222,\"#7201a8\"],[0.3333333333333333,\"#9c179e\"],[0.4444444444444444,\"#bd3786\"],[0.5555555555555556,\"#d8576b\"],[0.6666666666666666,\"#ed7953\"],[0.7777777777777778,\"#fb9f3a\"],[0.8888888888888888,\"#fdca26\"],[1.0,\"#f0f921\"]]}],\"choropleth\":[{\"type\":\"choropleth\",\"colorbar\":{\"outlinewidth\":0,\"ticks\":\"\"}}],\"histogram2d\":[{\"type\":\"histogram2d\",\"colorbar\":{\"outlinewidth\":0,\"ticks\":\"\"},\"colorscale\":[[0.0,\"#0d0887\"],[0.1111111111111111,\"#46039f\"],[0.2222222222222222,\"#7201a8\"],[0.3333333333333333,\"#9c179e\"],[0.4444444444444444,\"#bd3786\"],[0.5555555555555556,\"#d8576b\"],[0.6666666666666666,\"#ed7953\"],[0.7777777777777778,\"#fb9f3a\"],[0.8888888888888888,\"#fdca26\"],[1.0,\"#f0f921\"]]}],\"heatmap\":[{\"type\":\"heatmap\",\"colorbar\":{\"outlinewidth\":0,\"ticks\":\"\"},\"colorscale\":[[0.0,\"#0d0887\"],[0.1111111111111111,\"#46039f\"],[0.2222222222222222,\"#7201a8\"],[0.3333333333333333,\"#9c179e\"],[0.4444444444444444,\"#bd3786\"],[0.5555555555555556,\"#d8576b\"],[0.6666666666666666,\"#ed7953\"],[0.7777777777777778,\"#fb9f3a\"],[0.8888888888888888,\"#fdca26\"],[1.0,\"#f0f921\"]]}],\"heatmapgl\":[{\"type\":\"heatmapgl\",\"colorbar\":{\"outlinewidth\":0,\"ticks\":\"\"},\"colorscale\":[[0.0,\"#0d0887\"],[0.1111111111111111,\"#46039f\"],[0.2222222222222222,\"#7201a8\"],[0.3333333333333333,\"#9c179e\"],[0.4444444444444444,\"#bd3786\"],[0.5555555555555556,\"#d8576b\"],[0.6666666666666666,\"#ed7953\"],[0.7777777777777778,\"#fb9f3a\"],[0.8888888888888888,\"#fdca26\"],[1.0,\"#f0f921\"]]}],\"contourcarpet\":[{\"type\":\"contourcarpet\",\"colorbar\":{\"outlinewidth\":0,\"ticks\":\"\"}}],\"contour\":[{\"type\":\"contour\",\"colorbar\":{\"outlinewidth\":0,\"ticks\":\"\"},\"colorscale\":[[0.0,\"#0d0887\"],[0.1111111111111111,\"#46039f\"],[0.2222222222222222,\"#7201a8\"],[0.3333333333333333,\"#9c179e\"],[0.4444444444444444,\"#bd3786\"],[0.5555555555555556,\"#d8576b\"],[0.6666666666666666,\"#ed7953\"],[0.7777777777777778,\"#fb9f3a\"],[0.8888888888888888,\"#fdca26\"],[1.0,\"#f0f921\"]]}],\"surface\":[{\"type\":\"surface\",\"colorbar\":{\"outlinewidth\":0,\"ticks\":\"\"},\"colorscale\":[[0.0,\"#0d0887\"],[0.1111111111111111,\"#46039f\"],[0.2222222222222222,\"#7201a8\"],[0.3333333333333333,\"#9c179e\"],[0.4444444444444444,\"#bd3786\"],[0.5555555555555556,\"#d8576b\"],[0.6666666666666666,\"#ed7953\"],[0.7777777777777778,\"#fb9f3a\"],[0.8888888888888888,\"#fdca26\"],[1.0,\"#f0f921\"]]}],\"mesh3d\":[{\"type\":\"mesh3d\",\"colorbar\":{\"outlinewidth\":0,\"ticks\":\"\"}}],\"scatter\":[{\"fillpattern\":{\"fillmode\":\"overlay\",\"size\":10,\"solidity\":0.2},\"type\":\"scatter\"}],\"parcoords\":[{\"type\":\"parcoords\",\"line\":{\"colorbar\":{\"outlinewidth\":0,\"ticks\":\"\"}}}],\"scatterpolargl\":[{\"type\":\"scatterpolargl\",\"marker\":{\"colorbar\":{\"outlinewidth\":0,\"ticks\":\"\"}}}],\"bar\":[{\"error_x\":{\"color\":\"#2a3f5f\"},\"error_y\":{\"color\":\"#2a3f5f\"},\"marker\":{\"line\":{\"color\":\"#E5ECF6\",\"width\":0.5},\"pattern\":{\"fillmode\":\"overlay\",\"size\":10,\"solidity\":0.2}},\"type\":\"bar\"}],\"scattergeo\":[{\"type\":\"scattergeo\",\"marker\":{\"colorbar\":{\"outlinewidth\":0,\"ticks\":\"\"}}}],\"scatterpolar\":[{\"type\":\"scatterpolar\",\"marker\":{\"colorbar\":{\"outlinewidth\":0,\"ticks\":\"\"}}}],\"histogram\":[{\"marker\":{\"pattern\":{\"fillmode\":\"overlay\",\"size\":10,\"solidity\":0.2}},\"type\":\"histogram\"}],\"scattergl\":[{\"type\":\"scattergl\",\"marker\":{\"colorbar\":{\"outlinewidth\":0,\"ticks\":\"\"}}}],\"scatter3d\":[{\"type\":\"scatter3d\",\"line\":{\"colorbar\":{\"outlinewidth\":0,\"ticks\":\"\"}},\"marker\":{\"colorbar\":{\"outlinewidth\":0,\"ticks\":\"\"}}}],\"scattermapbox\":[{\"type\":\"scattermapbox\",\"marker\":{\"colorbar\":{\"outlinewidth\":0,\"ticks\":\"\"}}}],\"scatterternary\":[{\"type\":\"scatterternary\",\"marker\":{\"colorbar\":{\"outlinewidth\":0,\"ticks\":\"\"}}}],\"scattercarpet\":[{\"type\":\"scattercarpet\",\"marker\":{\"colorbar\":{\"outlinewidth\":0,\"ticks\":\"\"}}}],\"carpet\":[{\"aaxis\":{\"endlinecolor\":\"#2a3f5f\",\"gridcolor\":\"white\",\"linecolor\":\"white\",\"minorgridcolor\":\"white\",\"startlinecolor\":\"#2a3f5f\"},\"baxis\":{\"endlinecolor\":\"#2a3f5f\",\"gridcolor\":\"white\",\"linecolor\":\"white\",\"minorgridcolor\":\"white\",\"startlinecolor\":\"#2a3f5f\"},\"type\":\"carpet\"}],\"table\":[{\"cells\":{\"fill\":{\"color\":\"#EBF0F8\"},\"line\":{\"color\":\"white\"}},\"header\":{\"fill\":{\"color\":\"#C8D4E3\"},\"line\":{\"color\":\"white\"}},\"type\":\"table\"}],\"barpolar\":[{\"marker\":{\"line\":{\"color\":\"#E5ECF6\",\"width\":0.5},\"pattern\":{\"fillmode\":\"overlay\",\"size\":10,\"solidity\":0.2}},\"type\":\"barpolar\"}],\"pie\":[{\"automargin\":true,\"type\":\"pie\"}]},\"layout\":{\"autotypenumbers\":\"strict\",\"colorway\":[\"#636efa\",\"#EF553B\",\"#00cc96\",\"#ab63fa\",\"#FFA15A\",\"#19d3f3\",\"#FF6692\",\"#B6E880\",\"#FF97FF\",\"#FECB52\"],\"font\":{\"color\":\"#2a3f5f\"},\"hovermode\":\"closest\",\"hoverlabel\":{\"align\":\"left\"},\"paper_bgcolor\":\"white\",\"plot_bgcolor\":\"#E5ECF6\",\"polar\":{\"bgcolor\":\"#E5ECF6\",\"angularaxis\":{\"gridcolor\":\"white\",\"linecolor\":\"white\",\"ticks\":\"\"},\"radialaxis\":{\"gridcolor\":\"white\",\"linecolor\":\"white\",\"ticks\":\"\"}},\"ternary\":{\"bgcolor\":\"#E5ECF6\",\"aaxis\":{\"gridcolor\":\"white\",\"linecolor\":\"white\",\"ticks\":\"\"},\"baxis\":{\"gridcolor\":\"white\",\"linecolor\":\"white\",\"ticks\":\"\"},\"caxis\":{\"gridcolor\":\"white\",\"linecolor\":\"white\",\"ticks\":\"\"}},\"coloraxis\":{\"colorbar\":{\"outlinewidth\":0,\"ticks\":\"\"}},\"colorscale\":{\"sequential\":[[0.0,\"#0d0887\"],[0.1111111111111111,\"#46039f\"],[0.2222222222222222,\"#7201a8\"],[0.3333333333333333,\"#9c179e\"],[0.4444444444444444,\"#bd3786\"],[0.5555555555555556,\"#d8576b\"],[0.6666666666666666,\"#ed7953\"],[0.7777777777777778,\"#fb9f3a\"],[0.8888888888888888,\"#fdca26\"],[1.0,\"#f0f921\"]],\"sequentialminus\":[[0.0,\"#0d0887\"],[0.1111111111111111,\"#46039f\"],[0.2222222222222222,\"#7201a8\"],[0.3333333333333333,\"#9c179e\"],[0.4444444444444444,\"#bd3786\"],[0.5555555555555556,\"#d8576b\"],[0.6666666666666666,\"#ed7953\"],[0.7777777777777778,\"#fb9f3a\"],[0.8888888888888888,\"#fdca26\"],[1.0,\"#f0f921\"]],\"diverging\":[[0,\"#8e0152\"],[0.1,\"#c51b7d\"],[0.2,\"#de77ae\"],[0.3,\"#f1b6da\"],[0.4,\"#fde0ef\"],[0.5,\"#f7f7f7\"],[0.6,\"#e6f5d0\"],[0.7,\"#b8e186\"],[0.8,\"#7fbc41\"],[0.9,\"#4d9221\"],[1,\"#276419\"]]},\"xaxis\":{\"gridcolor\":\"white\",\"linecolor\":\"white\",\"ticks\":\"\",\"title\":{\"standoff\":15},\"zerolinecolor\":\"white\",\"automargin\":true,\"zerolinewidth\":2},\"yaxis\":{\"gridcolor\":\"white\",\"linecolor\":\"white\",\"ticks\":\"\",\"title\":{\"standoff\":15},\"zerolinecolor\":\"white\",\"automargin\":true,\"zerolinewidth\":2},\"scene\":{\"xaxis\":{\"backgroundcolor\":\"#E5ECF6\",\"gridcolor\":\"white\",\"linecolor\":\"white\",\"showbackground\":true,\"ticks\":\"\",\"zerolinecolor\":\"white\",\"gridwidth\":2},\"yaxis\":{\"backgroundcolor\":\"#E5ECF6\",\"gridcolor\":\"white\",\"linecolor\":\"white\",\"showbackground\":true,\"ticks\":\"\",\"zerolinecolor\":\"white\",\"gridwidth\":2},\"zaxis\":{\"backgroundcolor\":\"#E5ECF6\",\"gridcolor\":\"white\",\"linecolor\":\"white\",\"showbackground\":true,\"ticks\":\"\",\"zerolinecolor\":\"white\",\"gridwidth\":2}},\"shapedefaults\":{\"line\":{\"color\":\"#2a3f5f\"}},\"annotationdefaults\":{\"arrowcolor\":\"#2a3f5f\",\"arrowhead\":0,\"arrowwidth\":1},\"geo\":{\"bgcolor\":\"white\",\"landcolor\":\"#E5ECF6\",\"subunitcolor\":\"white\",\"showland\":true,\"showlakes\":true,\"lakecolor\":\"white\"},\"title\":{\"x\":0.05},\"mapbox\":{\"style\":\"light\"}}}},                        {\"responsive\": true}                    ).then(function(){\n",
              "                            \n",
              "var gd = document.getElementById('ed60fcd0-438f-4835-8bf6-1597b5ff7ef0');\n",
              "var x = new MutationObserver(function (mutations, observer) {{\n",
              "        var display = window.getComputedStyle(gd).display;\n",
              "        if (!display || display === 'none') {{\n",
              "            console.log([gd, 'removed!']);\n",
              "            Plotly.purge(gd);\n",
              "            observer.disconnect();\n",
              "        }}\n",
              "}});\n",
              "\n",
              "// Listen for the removal of the full notebook cells\n",
              "var notebookContainer = gd.closest('#notebook-container');\n",
              "if (notebookContainer) {{\n",
              "    x.observe(notebookContainer, {childList: true});\n",
              "}}\n",
              "\n",
              "// Listen for the clearing of the current output cell\n",
              "var outputEl = gd.closest('.output');\n",
              "if (outputEl) {{\n",
              "    x.observe(outputEl, {childList: true});\n",
              "}}\n",
              "\n",
              "                        })                };                            </script>        </div>\n",
              "</body>\n",
              "</html>"
            ]
          },
          "metadata": {}
        }
      ]
    },
    {
      "cell_type": "markdown",
      "metadata": {
        "id": "0hjtlf3UjI8n"
      },
      "source": [
        "# Neural Networks"
      ]
    },
    {
      "cell_type": "markdown",
      "metadata": {
        "id": "vVnUBfkIjI8u"
      },
      "source": [
        "Implementing the neural network part is trivial. We simply replace our `model` with one defined by `nn.Sequential`, as shown."
      ]
    },
    {
      "cell_type": "code",
      "execution_count": 29,
      "metadata": {
        "id": "fl4y1pNYjI8u"
      },
      "outputs": [],
      "source": [
        "model_DNN = nn.Sequential(nn.Linear(1, 50),\n",
        "                          nn.ReLU(),\n",
        "                          nn.Linear(50, 1))"
      ]
    },
    {
      "cell_type": "markdown",
      "source": [
        "Build a multilinear regression model, which takes in whatever inputs you wish, and regress another continuous value. Use the `nn.Sequential` defined above, or something similar.\n",
        "\n",
        "What other metrics can we use to define our regression model performance? Refer to [Scikit-Learn regression metrics](https://scikit-learn.org/stable/modules/model_evaluation.html#regression-metrics)"
      ],
      "metadata": {
        "id": "wjcqkHvzk6Sh"
      }
    },
    {
      "cell_type": "markdown",
      "source": [
        "## Solution"
      ],
      "metadata": {
        "id": "kEzmlsaflQQ8"
      }
    },
    {
      "cell_type": "code",
      "execution_count": 30,
      "metadata": {
        "id": "Oq6IeDzvjI8u"
      },
      "outputs": [],
      "source": [
        "# Optimiser and loss function\n",
        "loss_function = nn.MSELoss()\n",
        "optimizer = optim.Rprop(model_DNN.parameters())"
      ]
    },
    {
      "cell_type": "code",
      "execution_count": null,
      "metadata": {
        "id": "STh2ncgNjI8u"
      },
      "outputs": [],
      "source": [
        "# Trainging loop\n",
        "# keep track of the loss every epoch. This is only for visualisation\n",
        "losses = []\n",
        "N_epochs = 3000\n",
        "for epoch in range(N_epochs):\n",
        "    # tell the optimizer to begin an optimization step\n",
        "    optimizer.zero_grad()\n",
        "\n",
        "    # use the model as a prediction function: features → prediction\n",
        "    predictions = model_DNN(input_data)\n",
        "\n",
        "    # compute the loss (χ²) between these predictions and the intended targets\n",
        "    loss = loss_function(predictions, target)\n",
        "\n",
        "    # tell the loss function and optimizer to end an optimization step\n",
        "    loss.backward()\n",
        "    optimizer.step()\n",
        "\n",
        "    losses.append(loss.item())\n",
        "\n",
        "    # Print the loss every 10 epochs\n",
        "    if (epoch + 1) % 100 == 0:\n",
        "        print(f'Epoch [{epoch + 1}/{N_epochs}], Loss: {loss.item():.4f}')"
      ]
    },
    {
      "cell_type": "code",
      "execution_count": null,
      "metadata": {
        "id": "RnCKnmuZjI8u"
      },
      "outputs": [],
      "source": [
        "plot_loss_curve(losses)"
      ]
    },
    {
      "cell_type": "code",
      "execution_count": null,
      "metadata": {
        "id": "W3me7NRkjI8u"
      },
      "outputs": [],
      "source": [
        "r_squared_value = r_squared(target, y_pred)\n",
        "print(r_squared_value)"
      ]
    },
    {
      "cell_type": "code",
      "execution_count": null,
      "metadata": {
        "id": "iiKhkiehjI8u"
      },
      "outputs": [],
      "source": [
        "input_data/input_data.mean()"
      ]
    },
    {
      "cell_type": "code",
      "execution_count": null,
      "metadata": {
        "id": "kLgn3MmEjI8u"
      },
      "outputs": [],
      "source": [
        "# Perform all this again with normalized data\n",
        "input_data_normalised = (input_data - input_data.mean())/ input_data.std()\n",
        "target_normalised = (target - target.mean())/ target.std()\n",
        "# model_cheese = nn.Linear(1, 1)\n",
        "model_DNN_norm = nn.Sequential(nn.Linear(1, 50),\n",
        "                              nn.ReLU(),\n",
        "                              nn.Linear(50, 1))\n",
        "\n",
        "\n",
        "loss_function = nn.MSELoss()\n",
        "optimizer = optim.Rprop(model_DNN_norm.parameters())\n",
        "# keep track of the loss every epoch. This is only for visualisation\n",
        "losses = []\n",
        "N_epochs = 200\n",
        "for epoch in range(N_epochs):\n",
        "    # tell the optimizer to begin an optimization step\n",
        "    optimizer.zero_grad()\n",
        "\n",
        "    # use the model as a prediction function: features → prediction\n",
        "    predictions = model_DNN_norm(input_data_normalised)\n",
        "\n",
        "    # compute the loss (χ²) between these predictions and the intended targets\n",
        "    loss = loss_function(predictions, target_normalised)\n",
        "\n",
        "    # tell the loss function and optimizer to end an optimization step\n",
        "    loss.backward()\n",
        "    optimizer.step()\n",
        "\n",
        "    losses.append(loss.item())\n",
        "\n",
        "    # Print the loss every 10 epochs\n",
        "    if (epoch + 1) % 1 == 0:\n",
        "        print(f'Epoch [{epoch + 1}/{N_epochs}], Loss: {loss.item():.4f}')"
      ]
    },
    {
      "cell_type": "code",
      "execution_count": null,
      "metadata": {
        "id": "3tJ71FngjI8v"
      },
      "outputs": [],
      "source": [
        "plot_loss_curve(losses)"
      ]
    },
    {
      "cell_type": "code",
      "execution_count": null,
      "metadata": {
        "id": "1WcExyKujI8v"
      },
      "outputs": [],
      "source": [
        "y_out = model_DNN_norm(input_data_normalised)\n",
        "y_pred = y_out.detach()"
      ]
    },
    {
      "cell_type": "code",
      "execution_count": null,
      "metadata": {
        "id": "4LtQiEOjjI8v"
      },
      "outputs": [],
      "source": [
        "plt.plot(input_data, y_pred)"
      ]
    },
    {
      "cell_type": "code",
      "execution_count": null,
      "metadata": {
        "id": "xHWuApCRjI8v"
      },
      "outputs": [],
      "source": [
        "# Plot the original data and the linear regression line\n",
        "plt.scatter(input_data, target, color='blue', label='Data Points')\n",
        "plt.plot(input_data, y_pred, color='red', label='Linear Regression Line')\n",
        "plt.xlabel('Input')\n",
        "plt.ylabel('Target')\n",
        "plt.title('Linear Regression Example')"
      ]
    },
    {
      "cell_type": "code",
      "execution_count": null,
      "metadata": {
        "id": "E5E0msf3jI8v"
      },
      "outputs": [],
      "source": [
        "target_normalised.detach().numpy()"
      ]
    },
    {
      "cell_type": "code",
      "execution_count": null,
      "metadata": {
        "id": "OmMRgQEXjI8v"
      },
      "outputs": [],
      "source": [
        "# Plot the original data and the linear regression line\n",
        "plt.scatter(input_data_normalised, target_normalised.detach().numpy(), color='blue', label='Data Points')\n",
        "plt.plot(input_data_normalised, y_pred.detach().numpy(), color='red', label='Linear Regression Line')\n",
        "plt.xlabel('Input')\n",
        "plt.ylabel('Target')\n",
        "plt.title('Linear Regression Example')\n",
        "plt.legend()\n",
        "plt.show()"
      ]
    },
    {
      "cell_type": "code",
      "execution_count": null,
      "metadata": {
        "id": "zLA0MFkajI8v"
      },
      "outputs": [],
      "source": [
        "import torch\n",
        "import torch.nn as nn\n",
        "import torch.optim as optim\n",
        "import matplotlib.pyplot as plt\n",
        "\n",
        "# ------------------------\n",
        "# 1. Generate synthetic data\n",
        "# ------------------------\n",
        "torch.manual_seed(0)\n",
        "N = 200\n",
        "X = torch.linspace(-3, 3, N).unsqueeze(1)         # shape (N, 1)\n",
        "y_true = torch.sin(X) + 0.1 * torch.randn_like(X)  # regression target\n",
        "\n",
        "# ------------------------\n",
        "# 2. Normalize input manually\n",
        "# ------------------------\n",
        "x_mean = X.mean(0, keepdim=True)\n",
        "x_std = X.std(0, keepdim=True)\n",
        "X_norm = (X - x_mean) / x_std\n",
        "\n",
        "# ------------------------\n",
        "# 3. Define model\n",
        "# ------------------------\n",
        "model = nn.Sequential(\n",
        "    nn.Linear(1, 16),\n",
        "    nn.ReLU(),\n",
        "    nn.Linear(16, 1)\n",
        ")\n",
        "\n",
        "# ------------------------\n",
        "# 4. Train the model\n",
        "# ------------------------\n",
        "criterion = nn.MSELoss()\n",
        "optimizer = optim.Adam(model.parameters(), lr=0.01)\n",
        "\n",
        "for epoch in range(500):\n",
        "    optimizer.zero_grad()\n",
        "    y_pred = model(X_norm)\n",
        "    loss = criterion(y_pred, y_true)\n",
        "    loss.backward()\n",
        "    optimizer.step()\n",
        "\n",
        "    if epoch % 50 == 0:\n",
        "        print(f\"Epoch {epoch}, Loss: {loss.item():.4f}\")\n",
        "\n",
        "# ------------------------\n",
        "# 5. Inference + Plot\n",
        "# ------------------------\n",
        "# Generate input points in original (unnormalized) space\n",
        "X_test = torch.linspace(-3, 3, 300).unsqueeze(1)\n",
        "\n",
        "# Normalize before inference\n",
        "X_test_norm = (X_test - x_mean) / x_std\n",
        "\n",
        "with torch.no_grad():\n",
        "    y_test_pred = model(X_test_norm)\n",
        "\n",
        "# Plot prediction vs. ground truth\n",
        "plt.figure(figsize=(8, 5))\n",
        "plt.scatter(X.numpy(), y_true.numpy(), color='gray', alpha=0.4, label=\"Training Data\")\n",
        "plt.plot(X_test.numpy(), y_test_pred.numpy(), color='red', label=\"Model Prediction\")\n",
        "plt.xlabel(\"x\")\n",
        "plt.ylabel(\"y\")\n",
        "plt.title(\"1D Regression with Normalized Input\")\n",
        "plt.legend()\n",
        "plt.grid(True)\n",
        "plt.tight_layout()\n",
        "plt.show()\n"
      ]
    }
  ],
  "metadata": {
    "colab": {
      "provenance": [],
      "include_colab_link": true
    },
    "kernelspec": {
      "display_name": "torch",
      "language": "python",
      "name": "python3"
    },
    "language_info": {
      "codemirror_mode": {
        "name": "ipython",
        "version": 3
      },
      "file_extension": ".py",
      "mimetype": "text/x-python",
      "name": "python",
      "nbconvert_exporter": "python",
      "pygments_lexer": "ipython3",
      "version": "3.11.11"
    }
  },
  "nbformat": 4,
  "nbformat_minor": 0
}